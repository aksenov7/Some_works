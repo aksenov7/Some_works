{
 "cells": [
  {
   "cell_type": "code",
   "execution_count": 1,
   "metadata": {},
   "outputs": [],
   "source": [
    "from pyspark.sql.types import StructField, StructType, StringType, ArrayType, DoubleType, FloatType, IntegerType\n",
    "from pyspark.sql import SQLContext\n",
    "import pyspark_cassandra\n",
    "import cassandra\n",
    "from cassandra.cluster import Cluster\n",
    "import hdfs\n",
    "\n",
    "import os\n",
    "import re\n",
    "import pandas as pd\n",
    "from datetime import datetime as dt"
   ]
  },
  {
   "cell_type": "code",
   "execution_count": 2,
   "metadata": {},
   "outputs": [],
   "source": [
    "def clear(df):\n",
    "    df = df.copy()\n",
    "    df.content = df.content.apply(lambda r: re.sub('[^a-zA-ZáéíñóúüÁÉÍÑÓÚÜ]', ' ', r))\n",
    "    df.content = df.content.apply(lambda r: re.sub('\\s+', ' ', r))\n",
    "    return df\n",
    "\n",
    "def filtr(df):\n",
    "    df = df.copy()\n",
    "    print(df.shape)\n",
    "    df['esp'] = df.content.apply(lambda r: re.sub('[^áéíñóúüÁÉÍÑÓÚÜ]', '', r))\n",
    "    df = df[df.esp != '']\n",
    "    df.drop('esp', axis=1, inplace=True)\n",
    "    print(df.shape)\n",
    "    return df\n",
    "\n",
    "def filtr_sub_domain(d, sub_list=['gob', 'edu'], lab_list=[38, 36]):\n",
    "    df = d.copy()\n",
    "    for sub, lab in zip(sub_list, lab_list):\n",
    "        df['filtr_{}'.format(lab)] = df.domain.apply(lambda r: '.{}.'.format(sub) in r or  r.endswith('.{}'.format(sub)))\n",
    "        df.loc[df['filtr_{}'.format(lab)]==1, 'filtr_{}'.format(lab)] = lab\n",
    "    df['lab'] = df[[column for column in df.columns if column.startswith('filtr_')]].sum(axis=1)\n",
    "    df.drop(df[df['lab']==0].index, inplace=True)\n",
    "    df.drop([column for column in df.columns if column.startswith('filtr')], axis=1, inplace=True)\n",
    "    df.drop('politica', axis=1, inplace=True)\n",
    "    return df"
   ]
  },
  {
   "cell_type": "code",
   "execution_count": 3,
   "metadata": {},
   "outputs": [
    {
     "name": "stdout",
     "output_type": "stream",
     "text": [
      "Все файлы собраны и почищены от дубликатов за 0:00:01.251344\n",
      "Датасет очищен за 0:00:21.858818\n",
      "(2504, 3)\n",
      "(2480, 3)\n",
      "Датасет отфильтрован от неиспанских текстов за 0:00:30.308561\n",
      "Вся обработка и сохранение в два файла заняли 0:00:54.545573\n"
     ]
    }
   ],
   "source": [
    "first_start, start = dt.now(), dt.now()\n",
    "df = pd.DataFrame(columns=['domain', 'content', 'lab'])\n",
    "key_word = '01_'\n",
    "for file in os.listdir():\n",
    "    if file.endswith('.csv') and '{}'.format(key_word) in file:\n",
    "        d = pd.read_csv(file, sep='\\t')\n",
    "        df = pd.concat([df, d], axis=0)\n",
    "df.drop_duplicates('domain', inplace=True)\n",
    "print(\"Все файлы собраны и почищены от дубликатов за {}\".format(dt.now() - start))\n",
    "start = dt.now()\n",
    "df = clear(df)\n",
    "print(\"Датасет очищен за {}\".format(dt.now() - start))\n",
    "start = dt.now()\n",
    "df = filtr(df)\n",
    "print(\"Датасет отфильтрован от неиспанских текстов за {}\".format(dt.now() - start))\n",
    "start = dt.now()\n",
    "df.content = df.content.apply(lambda r: r.lower())\n",
    "# df.to_csv('{}_cont.csv'.format(key_word), sep='\\t', index=False)\n",
    "# df_mini = df.copy()\n",
    "# df_mini.content = df_mini.content.apply(lambda r: ' '.join(list(r.split(' '))[:150]))\n",
    "# df_mini.to_csv('{}_cont_mini.csv'.format(key_word), sep='\\t', index=False)\n",
    "print(\"Вся обработка и сохранение в два файла заняли {}\".format(dt.now() - first_start))"
   ]
  },
  {
   "cell_type": "code",
   "execution_count": 4,
   "metadata": {},
   "outputs": [],
   "source": [
    "df.to_csv('content_neg_47.csv', sep='\\t', index=False)"
   ]
  },
  {
   "cell_type": "code",
   "execution_count": 5,
   "metadata": {},
   "outputs": [
    {
     "data": {
      "text/plain": [
       "'/spark-common/vectors/content_neg_religion_2.parquet'"
      ]
     },
     "execution_count": 5,
     "metadata": {},
     "output_type": "execute_result"
    }
   ],
   "source": [
    "myshema = StructType([StructField(\"domain\", StringType()), \\\n",
    "                      StructField(\"content\", StringType()), \\\n",
    "                      StructField(\"lab\", StringType())])\n",
    "partitionNum = 100 # Increase this number if necessary\n",
    "ds = sqlContext.createDataFrame(df, myshema).repartition(partitionNum)\n",
    "name = 'content_neg_religion_2'\n",
    "parquet_path = \"hdfs://e1.getaura.ru/spark-common/vectors/{}.parquet\".format(name)\n",
    "ds.write.parquet(parquet_path, mode='overwrite')\n",
    "\"/spark-common/vectors/{}.parquet\".format(name)"
   ]
  },
  {
   "cell_type": "code",
   "execution_count": 6,
   "metadata": {},
   "outputs": [
    {
     "name": "stdout",
     "output_type": "stream",
     "text": [
      "+--------------------+--------------------+---+\n",
      "|              domain|             content|lab|\n",
      "+--------------------+--------------------+---+\n",
      "|           anaart.es|ana beltrán inici...| 55|\n",
      "|          arigata.es|asociación de emp...| 55|\n",
      "|    antoniolozano.es|antonio lozano te...| 55|\n",
      "|      andresjarel.es|vídeo promocional...| 55|\n",
      "|        dimepoker.cl|lo que necesitas ...| 18|\n",
      "|abastecimiento.cy...|abastecimiento de...| 57|\n",
      "|          acr.com.uy|a c r inmobiliari...| 57|\n",
      "|     agenciaayala.es|agencia ayala com...| 57|\n",
      "|alarconpropiedade...|inicio inicio qui...| 57|\n",
      "|           aljuma.es|aljuma inmobiliar...| 57|\n",
      "|abaspropiedades.c...|abas propiedades ...| 57|\n",
      "|          activum.es|activum servicios...| 57|\n",
      "|      afs-arq.com.ar|afs arquitectos i...| 57|\n",
      "|           alamos.es|venta de pisos en...| 57|\n",
      "|  almohadasba.com.ar|almohadas blanco ...| 57|\n",
      "|valle.fciencias.u...|laboratorio de vi...| 36|\n",
      "|       cicata.ipn.mx|inicio instituto ...| 36|\n",
      "|              uai.cl|bienvenido a la u...| 36|\n",
      "|            enega.es|presentacion inic...| 36|\n",
      "|gimnasiomodeliare...|gimnasio modelia ...| 36|\n",
      "+--------------------+--------------------+---+\n",
      "only showing top 20 rows\n",
      "\n"
     ]
    }
   ],
   "source": [
    "ds.show()"
   ]
  }
 ],
 "metadata": {
  "kernelspec": {
   "display_name": "Python 3",
   "language": "python",
   "name": "python3"
  },
  "language_info": {
   "codemirror_mode": {
    "name": "ipython",
    "version": 3
   },
   "file_extension": ".py",
   "mimetype": "text/x-python",
   "name": "python",
   "nbconvert_exporter": "python",
   "pygments_lexer": "ipython3",
   "version": "3.6.1"
  }
 },
 "nbformat": 4,
 "nbformat_minor": 4
}
