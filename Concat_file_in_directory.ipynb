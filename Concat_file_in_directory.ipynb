{
 "cells": [
  {
   "cell_type": "code",
   "execution_count": 35,
   "metadata": {},
   "outputs": [],
   "source": [
    "import os\n",
    "import re\n",
    "import pandas as pd\n",
    "from datetime import datetime as dt"
   ]
  },
  {
   "cell_type": "code",
   "execution_count": 37,
   "metadata": {},
   "outputs": [],
   "source": [
    "def clear(df):\n",
    "    df = df.copy()\n",
    "    df.content = df.content.apply(lambda r: re.sub('[^a-zA-ZáéíñóúüÁÉÍÑÓÚÜ]', ' ', r))\n",
    "    df.content = df.content.apply(lambda r: re.sub('\\s+', ' ', r))\n",
    "    return df\n",
    "\n",
    "def filtr(df):\n",
    "    df = df.copy()\n",
    "    print(df.shape)\n",
    "    df['esp'] = df.content.apply(lambda r: re.sub('[^áéíñóúüÁÉÍÑÓÚÜ]', '', r))\n",
    "    df = df[df.esp != '']\n",
    "    df.drop('esp', axis=1, inplace=True)\n",
    "    print(df.shape)\n",
    "    return df"
   ]
  },
  {
   "cell_type": "code",
   "execution_count": 39,
   "metadata": {},
   "outputs": [
    {
     "name": "stderr",
     "output_type": "stream",
     "text": [
      "/usr/local/lib/python3.6/dist-packages/ipykernel_launcher.py:11: FutureWarning: Sorting because non-concatenation axis is not aligned. A future version\n",
      "of pandas will change to not sort by default.\n",
      "\n",
      "To accept the future behavior, pass 'sort=False'.\n",
      "\n",
      "To retain the current behavior and silence the warning, pass 'sort=True'.\n",
      "\n",
      "  # This is added back by InteractiveShellApp.init_path()\n"
     ]
    },
    {
     "name": "stdout",
     "output_type": "stream",
     "text": [
      "Все файлы собраны и почищены от дубликатов за 0:00:01.986816\n",
      "Датасет очищен за 0:00:23.384016\n",
      "(2707, 4)\n",
      "(2487, 4)\n",
      "Датасет отфильтрован от неиспанских текстов за 0:00:26.024254\n",
      "Вся обработка и сохранение в два файла заняли 0:00:59.732943\n"
     ]
    }
   ],
   "source": [
    "first_start, start = dt.now(), dt.now()\n",
    "df = pd.DataFrame(columns=['domain', 'content', 'source', 'lab'])\n",
    "key_word = 'religion'\n",
    "for file in os.listdir():\n",
    "    if file.endswith('.csv') and '_{}'.format(key_word) in file:\n",
    "        d = pd.read_csv(file, sep='\\t')\n",
    "        if file.startswith('18_'):\n",
    "            d['source'] = 'google'\n",
    "        else:\n",
    "            d['source'] = 'bd'\n",
    "        df = pd.concat([df, d], axis=0)\n",
    "df.drop_duplicates('domain', inplace=True)\n",
    "print(\"Все файлы собраны и почищены от дубликатов за {}\".format(dt.now() - start))\n",
    "start = dt.now()\n",
    "df = clear(df)\n",
    "print(\"Датасет очищен за {}\".format(dt.now() - start))\n",
    "start = dt.now()\n",
    "df = filtr(df)\n",
    "print(\"Датасет отфильтрован от неиспанских текстов за {}\".format(dt.now() - start))\n",
    "start = dt.now()\n",
    "df.content = df.content.apply(lambda r: r.lower())\n",
    "df.to_csv('{}_cont.csv'.format(key_word), sep='\\t', index=False)\n",
    "df_mini = df.copy()\n",
    "df_mini.content = df_mini.content.apply(lambda r: ' '.join(list(r.split(' '))[:150]))\n",
    "df_mini.to_csv('{}_cont_mini.csv'.format(key_word), sep='\\t', index=False)\n",
    "print(\"Вся обработка и сохранение в два файла заняли {}\".format(dt.now() - first_start))"
   ]
  },
  {
   "cell_type": "code",
   "execution_count": 40,
   "metadata": {},
   "outputs": [],
   "source": [
    "pattern = ['religion', 'el templo', 'la iglesia', 'sacerdote', 'ateo', 'protestante',\n",
    "            'catolico', 'musulmán', 'dios', 'la biblia', 'el icono', 'fe', 'Jesús',\n",
    "            'Buda', 'El Corán', 'la mezquita', 'paraiso', 'Cristo', 'Allah', 'Judío',\n",
    "            'monje', 'la catedral', 'el monasterio', 'adorar', 'culto', 'secta',\n",
    "            'Jehová', 'iglesia', 'deidad', 'la cruz', 'predicación', 'santo',\n",
    "            'agnóstico', 'publicar', 'pecados', 'Masonería', 'patriarca', 'sinagoga',\n",
    "            'herejía', 'ritual', 'rabino', 'fanático', 'el apóstol', 'celular', 'pastor',\n",
    "            'ídolo', 'canon', 'laurel', 'crucifijo', 'confesión',]\n",
    "# pattern = ['abogado', 'acordeón', 'alguacil', 'candidato presidencial', 'codigo',\n",
    "#          'congreso', 'controversia', 'corrupción', 'criminal', 'código de leyes', 'debate',\n",
    "#          'declaración', 'decreto presidencial', 'dictadura', 'diputado', 'el derecho',\n",
    "#          'el embajador', 'el fiscal', 'el ministro', 'el pensamiento', 'el presidente',\n",
    "#          'factura', 'fiesta', 'fiscalía', 'ideologia', 'jurisprudencia', 'justicia',\n",
    "#          'juzgar', 'la constitución', 'la corte', 'la cumbre', 'la cárcel', 'la elección',\n",
    "#          'la ley', 'la oposicion', 'la policia', 'legislación', 'liberal', 'mandato',\n",
    "#          'monarquia', 'movimiento politico', 'oficial', 'orador', 'parlamento', 'policia',\n",
    "#          'politica', 'politólogo', 'primer', 'produccion', 'rally', 'republica',\n",
    "#          'sanciones', 'se desocupa', 'senado', 'trono', 'votar',]"
   ]
  },
  {
   "cell_type": "code",
   "execution_count": 41,
   "metadata": {},
   "outputs": [],
   "source": [
    "def ranging(df, pattern):\n",
    "    new_df = df.copy(deep=True)\n",
    "    new_df['rang'] = new_df.content.\\\n",
    "                apply(lambda r: sum([len(re.findall(p, r)) for p in pattern]))\n",
    "    return new_df.sort_values('rang', ascending=False)    "
   ]
  },
  {
   "cell_type": "code",
   "execution_count": 42,
   "metadata": {},
   "outputs": [],
   "source": [
    "new_df = ranging(df, pattern)"
   ]
  },
  {
   "cell_type": "code",
   "execution_count": 44,
   "metadata": {},
   "outputs": [],
   "source": [
    "df_mini = new_df.copy(deep=True)\n",
    "df_mini.content = df_mini.content.apply(lambda r: ' '.join(list(r.split(' '))[:150]))\n",
    "df_mini.to_csv('{}_cont_mini_filtr.csv'.format(key_word), sep='\\t', index=False)"
   ]
  },
  {
   "cell_type": "code",
   "execution_count": 6,
   "metadata": {},
   "outputs": [
    {
     "data": {
      "text/plain": [
       "{'abogado',\n",
       " 'acordeón',\n",
       " 'alguacil',\n",
       " 'candidato presidencial',\n",
       " 'codigo',\n",
       " 'congreso',\n",
       " 'controversia',\n",
       " 'corrupción',\n",
       " 'criminal',\n",
       " 'código de leyes',\n",
       " 'debate',\n",
       " 'declaración',\n",
       " 'decreto presidencial',\n",
       " 'dictadura',\n",
       " 'diputado',\n",
       " 'el derecho',\n",
       " 'el embajador',\n",
       " 'el fiscal',\n",
       " 'el ministro',\n",
       " 'el pensamiento',\n",
       " 'el presidente',\n",
       " 'factura',\n",
       " 'fiesta',\n",
       " 'fiscalía',\n",
       " 'ideologia',\n",
       " 'jurisprudencia',\n",
       " 'justicia',\n",
       " 'juzgar',\n",
       " 'la constitución',\n",
       " 'la corte',\n",
       " 'la cumbre',\n",
       " 'la cárcel',\n",
       " 'la elección',\n",
       " 'la ley',\n",
       " 'la oposicion',\n",
       " 'la policia',\n",
       " 'legislación',\n",
       " 'liberal',\n",
       " 'mandato',\n",
       " 'monarquia',\n",
       " 'movimiento politico',\n",
       " 'oficial',\n",
       " 'orador',\n",
       " 'parlamento',\n",
       " 'policia',\n",
       " 'politica',\n",
       " 'politólogo',\n",
       " 'primer',\n",
       " 'produccion',\n",
       " 'rally',\n",
       " 'republica',\n",
       " 'sanciones',\n",
       " 'se desocupa',\n",
       " 'senado',\n",
       " 'trono',\n",
       " 'votar'}"
      ]
     },
     "execution_count": 6,
     "metadata": {},
     "output_type": "execute_result"
    }
   ],
   "source": [
    "set('''Acordeón\n",
    "Debate\n",
    "politica\n",
    "Declaración\n",
    "se desocupa\n",
    "liberal\n",
    "la ley\n",
    "ideologia\n",
    "congreso\n",
    "rally\n",
    "la oposicion\n",
    "orador\n",
    "parlamento\n",
    "controversia\n",
    "el presidente\n",
    "trono\n",
    "produccion\n",
    "republica\n",
    "fiesta\n",
    "la elección\n",
    "monarquia\n",
    "dictadura\n",
    "votar\n",
    "movimiento politico\n",
    "la corte\n",
    "la constitución\n",
    "el derecho\n",
    "juzgar\n",
    "codigo\n",
    "abogado\n",
    "la cárcel\n",
    "abogado\n",
    "la policia\n",
    "legislación\n",
    "el fiscal\n",
    "policia\n",
    "criminal\n",
    "el pensamiento\n",
    "decreto presidencial\n",
    "código de leyes\n",
    "parlamento\n",
    "justicia\n",
    "jurisprudencia\n",
    "diputado\n",
    "fiscalía\n",
    "factura\n",
    "alguacil\n",
    "oficial\n",
    "codigo\n",
    "el ministro\n",
    "corrupción\n",
    "Senado\n",
    "candidato presidencial\n",
    "politólogo\n",
    "el embajador\n",
    "mandato\n",
    "primer\n",
    "sanciones\n",
    "la oposicion\n",
    "la cumbre'''.lower().split('\\n'))"
   ]
  }
 ],
 "metadata": {
  "kernelspec": {
   "display_name": "Python 3",
   "language": "python",
   "name": "python3"
  },
  "language_info": {
   "codemirror_mode": {
    "name": "ipython",
    "version": 3
   },
   "file_extension": ".py",
   "mimetype": "text/x-python",
   "name": "python",
   "nbconvert_exporter": "python",
   "pygments_lexer": "ipython3",
   "version": "3.6.1"
  }
 },
 "nbformat": 4,
 "nbformat_minor": 2
}
