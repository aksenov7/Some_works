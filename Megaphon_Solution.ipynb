{
 "cells": [
  {
   "cell_type": "markdown",
   "metadata": {},
   "source": [
    "# Анализ данных, заполнение и модификация"
   ]
  },
  {
   "cell_type": "markdown",
   "metadata": {},
   "source": [
    "Ссылка на презентацию"
   ]
  },
  {
   "cell_type": "markdown",
   "metadata": {},
   "source": [
    "https://docs.google.com/presentation/d/1i1YYzqoq1IsIbBy5NkHoPCJ7OS5yaM2uNcri7-QRB6E/edit?usp=sharing"
   ]
  },
  {
   "cell_type": "code",
   "execution_count": 1,
   "metadata": {},
   "outputs": [],
   "source": [
    "import os\n",
    "import pandas as pd\n",
    "import numpy as np\n",
    "import matplotlib.pyplot as plt\n",
    "import seaborn as sns\n",
    "import time\n",
    "import datetime\n",
    "import scipy\n",
    "# !pip3 install pyproj\n",
    "import pyproj\n",
    "import gc"
   ]
  },
  {
   "cell_type": "markdown",
   "metadata": {},
   "source": [
    "## Вспомогательные функции"
   ]
  },
  {
   "cell_type": "code",
   "execution_count": 2,
   "metadata": {},
   "outputs": [],
   "source": [
    "def geo_distance(lat1, long1, lat2, long2):\n",
    "    '''Функция для получения расстояния между станциями\n",
    "    lat1 - широта первой точки\n",
    "    long1 - долгота первой точки\n",
    "    lat2 - широта второй точки\n",
    "    long2 - долгота второй точки\n",
    "    return dist, angl1, angl2 - расстояние между точками, уголы между точками\n",
    "    '''\n",
    "    geod = pyproj.Geod(ellps=\"WGS84\")\n",
    "    angle1, angle2, distance = geod.inv(long1, lat1, long2, lat2)\n",
    "    if angle1 < 0: angle1 = 360 + angle1\n",
    "    if angle2 < 0: angle2 = 360 + angle2\n",
    "    return angle1, angle2, distance"
   ]
  },
  {
   "cell_type": "code",
   "execution_count": 3,
   "metadata": {},
   "outputs": [],
   "source": [
    "data_type = {'lac':np.int, 'cid': np.int, 'msisdn':np.int, 'imei':str,\n",
    "             'event_type':np.int, 'tstamp':np.int, 'long':np.float, 'lat':np.float,\n",
    "             'max_dist':np.int, 'cell_type':str, 'start_angle':np.float, 'end_angle':np.float}"
   ]
  },
  {
   "cell_type": "code",
   "execution_count": 4,
   "metadata": {},
   "outputs": [],
   "source": [
    "data = pd.read_csv('data.csv', sep=';', dtype=data_type)\n",
    "device = pd.read_csv('device.csv', sep=',')\n",
    "# event = pd.read_excel('event.xlsx')"
   ]
  },
  {
   "cell_type": "markdown",
   "metadata": {},
   "source": [
    "Добавляем данные об устройствах"
   ]
  },
  {
   "cell_type": "code",
   "execution_count": 5,
   "metadata": {},
   "outputs": [
    {
     "name": "stdout",
     "output_type": "stream",
     "text": [
      "(174123, 12)\n",
      "(174123, 15)\n"
     ]
    },
    {
     "data": {
      "text/plain": [
       "0"
      ]
     },
     "execution_count": 5,
     "metadata": {},
     "output_type": "execute_result"
    }
   ],
   "source": [
    "print(data.shape)\n",
    "data['tac'] = data.imei.apply(lambda r: r[:8] if isinstance(r,str) else r)\n",
    "data['tac'] = data['tac'].fillna(0)\n",
    "data['tac'] = data['tac'].astype(int)\n",
    "data = data.merge(device, how='left', on='tac')\n",
    "data.drop('tac', axis=1, inplace=True)\n",
    "print(data.shape)\n",
    "del device\n",
    "gc.collect()"
   ]
  },
  {
   "cell_type": "markdown",
   "metadata": {},
   "source": [
    "Анализ устройств в разрезе событий, которые они генерируют"
   ]
  },
  {
   "cell_type": "code",
   "execution_count": 6,
   "metadata": {},
   "outputs": [
    {
     "data": {
      "text/plain": [
       "0     77847\n",
       "10    22237\n",
       "8     16950\n",
       "2     16807\n",
       "5     15752\n",
       "3     14873\n",
       "1      8950\n",
       "7       462\n",
       "9       239\n",
       "6         6\n",
       "Name: event_type, dtype: int64"
      ]
     },
     "execution_count": 6,
     "metadata": {},
     "output_type": "execute_result"
    }
   ],
   "source": [
    "data.event_type.value_counts()"
   ]
  },
  {
   "cell_type": "code",
   "execution_count": 7,
   "metadata": {},
   "outputs": [],
   "source": [
    "all_events = set([i for i in range(11)])"
   ]
  },
  {
   "cell_type": "code",
   "execution_count": 8,
   "metadata": {},
   "outputs": [
    {
     "data": {
      "text/plain": [
       "type\n",
       "Data card                  {0, 1, 2, 3, 5, 8, 10}\n",
       "Laptop               {0, 1, 2, 3, 5, 7, 8, 9, 10}\n",
       "Network device             {0, 1, 2, 3, 5, 8, 10}\n",
       "Phone             {0, 1, 2, 3, 5, 6, 7, 8, 9, 10}\n",
       "SmartPhone           {0, 1, 2, 3, 5, 7, 8, 9, 10}\n",
       "USB modem                  {0, 1, 2, 3, 5, 8, 10}\n",
       "Name: event_type, dtype: object"
      ]
     },
     "execution_count": 8,
     "metadata": {},
     "output_type": "execute_result"
    }
   ],
   "source": [
    "event_by_type = data[data.vendor!='FAKE'].groupby('type').event_type.agg(list)\n",
    "event_by_type = event_by_type.apply(set)\n",
    "event_by_type"
   ]
  },
  {
   "cell_type": "code",
   "execution_count": 9,
   "metadata": {
    "scrolled": true
   },
   "outputs": [
    {
     "data": {
      "text/plain": [
       "type\n",
       "Data card         {9, 4, 6, 7}\n",
       "Laptop                  {4, 6}\n",
       "Network device    {9, 4, 6, 7}\n",
       "Phone                      {4}\n",
       "SmartPhone              {4, 6}\n",
       "USB modem         {9, 4, 6, 7}\n",
       "Name: event_type, dtype: object"
      ]
     },
     "execution_count": 9,
     "metadata": {},
     "output_type": "execute_result"
    }
   ],
   "source": [
    "'''Видим что SmartPhone и Laptop, можно отличить от Phone по событию 6\n",
    "А Data card, Network device и USB modem от всех остальных по событиям 7, 9, но они довольно редкие'''\n",
    "not_event_by_type = event_by_type.apply(lambda r: all_events.difference(r))\n",
    "not_event_by_type"
   ]
  },
  {
   "cell_type": "code",
   "execution_count": 10,
   "metadata": {},
   "outputs": [
    {
     "data": {
      "text/plain": [
       "OUTDOOR    169912\n",
       "INDOOR       2184\n",
       "METRO        2027\n",
       "Name: cell_type, dtype: int64"
      ]
     },
     "execution_count": 10,
     "metadata": {},
     "output_type": "execute_result"
    }
   ],
   "source": [
    "data.cell_type.value_counts()"
   ]
  },
  {
   "cell_type": "code",
   "execution_count": 11,
   "metadata": {},
   "outputs": [
    {
     "data": {
      "text/plain": [
       "type\n",
       "Data card         {OUTDOOR, INDOOR, METRO}\n",
       "Laptop            {OUTDOOR, INDOOR, METRO}\n",
       "Network device           {OUTDOOR, INDOOR}\n",
       "Phone             {OUTDOOR, INDOOR, METRO}\n",
       "SmartPhone        {OUTDOOR, INDOOR, METRO}\n",
       "USB modem                {OUTDOOR, INDOOR}\n",
       "Name: cell_type, dtype: object"
      ]
     },
     "execution_count": 11,
     "metadata": {},
     "output_type": "execute_result"
    }
   ],
   "source": [
    "'''Также можно отсечь USB modem и Network device по cell_type!=METRO'''\n",
    "cell_type_by_type = data[data.vendor!='FAKE'].groupby('type').cell_type.agg(list)\n",
    "cell_type_by_type = cell_type_by_type.apply(set)\n",
    "cell_type_by_type"
   ]
  },
  {
   "cell_type": "code",
   "execution_count": 12,
   "metadata": {},
   "outputs": [
    {
     "data": {
      "text/plain": [
       "vendor\n",
       "Acer                           {0, 1, 5}\n",
       "Alcatel           {0, 1, 2, 3, 5, 8, 10}\n",
       "Aole              {0, 1, 2, 3, 5, 8, 10}\n",
       "Apple       {0, 1, 2, 3, 5, 7, 8, 9, 10}\n",
       "Asus              {0, 1, 2, 3, 5, 8, 10}\n",
       "                        ...             \n",
       "Umeox             {0, 1, 2, 3, 5, 8, 10}\n",
       "Vertu                {0, 1, 2, 3, 8, 10}\n",
       "Wavecom                    {1, 2, 10, 5}\n",
       "Xtelecom             {0, 1, 2, 3, 8, 10}\n",
       "ZTE         {0, 1, 2, 3, 5, 7, 8, 9, 10}\n",
       "Name: event_type, Length: 68, dtype: object"
      ]
     },
     "execution_count": 12,
     "metadata": {},
     "output_type": "execute_result"
    }
   ],
   "source": [
    "event_by_vendor = data[data.vendor!='FAKE'].groupby('vendor').event_type.agg(list)\n",
    "event_by_vendor = event_by_vendor.apply(set)\n",
    "event_by_vendor"
   ]
  },
  {
   "cell_type": "code",
   "execution_count": 13,
   "metadata": {},
   "outputs": [
    {
     "data": {
      "text/plain": [
       "vendor\n",
       "Acer        {2, 3, 4, 6, 7, 8, 9, 10}\n",
       "Alcatel                  {9, 4, 6, 7}\n",
       "Aole                     {9, 4, 6, 7}\n",
       "Apple                          {4, 6}\n",
       "Asus                     {9, 4, 6, 7}\n",
       "                      ...            \n",
       "Umeox                    {9, 4, 6, 7}\n",
       "Vertu                 {4, 5, 6, 7, 9}\n",
       "Wavecom         {0, 3, 4, 6, 7, 8, 9}\n",
       "Xtelecom              {4, 5, 6, 7, 9}\n",
       "ZTE                            {4, 6}\n",
       "Name: event_type, Length: 68, dtype: object"
      ]
     },
     "execution_count": 13,
     "metadata": {},
     "output_type": "execute_result"
    }
   ],
   "source": [
    "not_event_by_vendor = event_by_vendor.apply(lambda r: all_events.difference(r))\n",
    "not_event_by_vendor"
   ]
  },
  {
   "cell_type": "code",
   "execution_count": 14,
   "metadata": {},
   "outputs": [
    {
     "data": {
      "text/plain": [
       "platform\n",
       "Android              {0, 1, 2, 3, 5, 7, 8, 9, 10}\n",
       "Bada OS              {0, 1, 2, 3, 5, 7, 8, 9, 10}\n",
       "BlackBerry OS           {0, 1, 2, 3, 5, 7, 8, 10}\n",
       "ISA               {0, 1, 2, 3, 5, 6, 7, 8, 9, 10}\n",
       "Maemo                      {0, 1, 2, 3, 7, 8, 10}\n",
       "MeeGo                            {0, 2, 5, 8, 10}\n",
       "Nucleus OS                    {0, 1, 2, 3, 8, 10}\n",
       "Proprietary       {0, 1, 2, 3, 5, 6, 7, 8, 9, 10}\n",
       "Symbian OS           {0, 1, 2, 3, 5, 7, 8, 9, 10}\n",
       "Windows Mobile       {0, 1, 2, 3, 5, 7, 8, 9, 10}\n",
       "Windows Phone        {0, 1, 2, 3, 5, 7, 8, 9, 10}\n",
       "iOS                  {0, 1, 2, 3, 5, 7, 8, 9, 10}\n",
       "uC-OS/II                         {0, 2, 3, 8, 10}\n",
       "Name: event_type, dtype: object"
      ]
     },
     "execution_count": 14,
     "metadata": {},
     "output_type": "execute_result"
    }
   ],
   "source": [
    "event_by_platform = data[data.vendor!='FAKE'].groupby('platform').event_type.agg(list)\n",
    "event_by_platform = event_by_platform.apply(set)\n",
    "event_by_platform"
   ]
  },
  {
   "cell_type": "code",
   "execution_count": 15,
   "metadata": {},
   "outputs": [
    {
     "data": {
      "text/plain": [
       "platform\n",
       "Android                       {4, 6}\n",
       "Bada OS                       {4, 6}\n",
       "BlackBerry OS              {9, 4, 6}\n",
       "ISA                              {4}\n",
       "Maemo                   {9, 4, 5, 6}\n",
       "MeeGo             {1, 3, 4, 6, 7, 9}\n",
       "Nucleus OS           {4, 5, 6, 7, 9}\n",
       "Proprietary                      {4}\n",
       "Symbian OS                    {4, 6}\n",
       "Windows Mobile                {4, 6}\n",
       "Windows Phone                 {4, 6}\n",
       "iOS                           {4, 6}\n",
       "uC-OS/II          {1, 4, 5, 6, 7, 9}\n",
       "Name: event_type, dtype: object"
      ]
     },
     "execution_count": 15,
     "metadata": {},
     "output_type": "execute_result"
    }
   ],
   "source": [
    "not_event_by_platform = event_by_platform.apply(lambda r: all_events.difference(r))\n",
    "not_event_by_platform"
   ]
  },
  {
   "cell_type": "markdown",
   "metadata": {},
   "source": [
    "На основе вышеизложенных данных можно сузить диапазон вариантов для определения устройств без imei"
   ]
  },
  {
   "cell_type": "markdown",
   "metadata": {},
   "source": [
    "## Анализируем верные ответы"
   ]
  },
  {
   "cell_type": "code",
   "execution_count": 16,
   "metadata": {},
   "outputs": [],
   "source": [
    "facts = pd.read_excel('facts.xlsx',names=['first', 'second'])"
   ]
  },
  {
   "cell_type": "code",
   "execution_count": 17,
   "metadata": {},
   "outputs": [],
   "source": [
    "def data_exist(val):\n",
    "    '''Смотрит, существуют ли для данной симки, записи в файле data\n",
    "    val - номер симки\n",
    "    return - val/Nan - либо номер симки, если она есть, либо Nan, если ее нет'''\n",
    "    if data[data.msisdn==val].shape[0] == 0:\n",
    "        return np.nan\n",
    "    return val\n",
    "\n",
    "facts['first'] = facts['first'].apply(data_exist)\n",
    "facts['second'] = facts['second'].apply(data_exist)\n",
    "facts.dropna(inplace=True)\n",
    "facts['first'] = facts['first'].astype(int)\n",
    "facts['second'] = facts['second'].astype(int)"
   ]
  },
  {
   "cell_type": "code",
   "execution_count": 18,
   "metadata": {},
   "outputs": [],
   "source": [
    "first_device, second_device = [], []\n",
    "for first, second in facts.values:\n",
    "    first_device.append(data[data.msisdn==first].drop_duplicates(['msisdn', 'type']).type.values)\n",
    "    second_device.append(data[data.msisdn==second].drop_duplicates(['msisdn', 'type']).type.values)\n",
    "facts['first_device'] = first_device\n",
    "facts['second_device'] = second_device\n",
    "def device_equal(first, second):\n",
    "    '''Проверяет совпадает ли хоть одно устройство первой симки с любым устройством второй симки\n",
    "    first - набор устройств первой симки\n",
    "    second - набор устройств второй симки\n",
    "    return - True/False'''\n",
    "    if set(first) == set(second): return True\n",
    "    for val in first:\n",
    "        if val in second: return True\n",
    "    return False\n",
    "facts['equal'] = facts.apply(lambda r: device_equal(r[2], r[3]),axis=1)"
   ]
  },
  {
   "cell_type": "code",
   "execution_count": 19,
   "metadata": {},
   "outputs": [],
   "source": [
    "all_device_1 = []\n",
    "for i in facts.first_device.value_counts().index:\n",
    "    all_device_1.extend(i)\n",
    "all_device_1 = set(all_device_1)\n",
    "\n",
    "all_device_2 = []\n",
    "for i in facts.second_device.value_counts().index:\n",
    "    all_device_2.extend(i)\n",
    "all_device_2 = set(all_device_2)"
   ]
  },
  {
   "cell_type": "code",
   "execution_count": 20,
   "metadata": {},
   "outputs": [
    {
     "data": {
      "text/plain": [
       "({'Laptop', 'Phone', 'SmartPhone', 'USB modem', nan},\n",
       " {'Data card', 'Laptop', 'Phone', 'SmartPhone', 'USB modem', nan})"
      ]
     },
     "execution_count": 20,
     "metadata": {},
     "output_type": "execute_result"
    }
   ],
   "source": [
    "all_device_1, all_device_2"
   ]
  },
  {
   "cell_type": "code",
   "execution_count": 21,
   "metadata": {},
   "outputs": [
    {
     "data": {
      "text/plain": [
       "[Phone]                61\n",
       "[SmartPhone]           18\n",
       "[Laptop]                7\n",
       "[USB modem]             2\n",
       "[SmartPhone, Phone]     1\n",
       "Name: first_device, dtype: int64"
      ]
     },
     "execution_count": 21,
     "metadata": {},
     "output_type": "execute_result"
    }
   ],
   "source": [
    "facts.first_device.value_counts()[:5]"
   ]
  },
  {
   "cell_type": "code",
   "execution_count": 22,
   "metadata": {},
   "outputs": [
    {
     "data": {
      "text/plain": [
       "[Phone]                55\n",
       "[SmartPhone]           28\n",
       "[USB modem]             5\n",
       "[Laptop]                2\n",
       "[Phone, SmartPhone]     1\n",
       "Name: second_device, dtype: int64"
      ]
     },
     "execution_count": 22,
     "metadata": {},
     "output_type": "execute_result"
    }
   ],
   "source": [
    "facts.second_device.value_counts()[:5]"
   ]
  },
  {
   "cell_type": "code",
   "execution_count": 23,
   "metadata": {},
   "outputs": [
    {
     "data": {
      "text/plain": [
       "True     63\n",
       "False    56\n",
       "Name: equal, dtype: int64"
      ]
     },
     "execution_count": 23,
     "metadata": {},
     "output_type": "execute_result"
    }
   ],
   "source": [
    "'''Распределение совпадений и не совпадений устройств'''\n",
    "facts.equal.value_counts()"
   ]
  },
  {
   "cell_type": "markdown",
   "metadata": {},
   "source": [
    "## Работаем с data"
   ]
  },
  {
   "cell_type": "markdown",
   "metadata": {},
   "source": [
    "Анализ imei для которых нет записей в device и симок, у которых нет imei"
   ]
  },
  {
   "cell_type": "code",
   "execution_count": 24,
   "metadata": {
    "scrolled": true
   },
   "outputs": [],
   "source": [
    "def fill_device_type(event_set, cell_type_set):\n",
    "    '''Функция, которая пытается заполнить пропуки в типах устройств\n",
    "    Первые два условия, дают хорошую точность, но малое покрытие\n",
    "    Третье условие, очень спорное, но решил попробовать\n",
    "    event_set - набор уникальных событий для устройства\n",
    "    cell_type_set - набор уникальных cell_type для устройства\n",
    "    return - device_type (создаются некие агрегированные типы устройств)'''\n",
    "    if 6 in event_set: return 'Phone'\n",
    "    if 7 in event_set or 9 in event_set: return 'Smart_Lap_Phone'\n",
    "    if 'METRO' not in cell_type_set: return 'USB_Network'\n",
    "    return np.nan"
   ]
  },
  {
   "cell_type": "code",
   "execution_count": 25,
   "metadata": {},
   "outputs": [
    {
     "data": {
      "text/plain": [
       "USB_Network        130\n",
       "Smart_Lap_Phone     20\n",
       "Name: device, dtype: int64"
      ]
     },
     "execution_count": 25,
     "metadata": {},
     "output_type": "execute_result"
    }
   ],
   "source": [
    "'''Собираем события и cell_type по imei, которые не имеют описания device\n",
    "Пытаемся заполнить пробелы в типе устройства, где это возможно'''\n",
    "no_device_imei_event = data[data.type.isna()].groupby('imei')\\\n",
    "                            .event_type.agg(list).apply(lambda r: set(r)).to_frame().reset_index()\n",
    "no_device_imei_cell_type = data[data.type.isna()].groupby('imei')\\\n",
    "                            .cell_type.agg(list).apply(lambda r: set(r)).to_frame().reset_index()\n",
    "no_device_imei = no_device_imei_event.merge(no_device_imei_cell_type, on='imei')\n",
    "no_device_imei['device'] = no_device_imei.apply(lambda r: fill_device_type(r[1], r[2]), axis=1)\n",
    "no_device_imei.device.value_counts()"
   ]
  },
  {
   "cell_type": "code",
   "execution_count": 26,
   "metadata": {},
   "outputs": [
    {
     "data": {
      "text/plain": [
       "0"
      ]
     },
     "execution_count": 26,
     "metadata": {},
     "output_type": "execute_result"
    }
   ],
   "source": [
    "'''создаем словарь для заполнения типов устройств и применяем его'''\n",
    "imei2device = {key:val for key, val in no_device_imei[['imei', 'device']].values}\n",
    "data.loc[data.type.isna(), 'type'] = data.loc[data.type.isna(), 'imei'].map(imei2device)\n",
    "del no_device_imei, imei2device\n",
    "gc.collect()"
   ]
  },
  {
   "cell_type": "code",
   "execution_count": 27,
   "metadata": {},
   "outputs": [
    {
     "data": {
      "text/plain": [
       "USB_Network    816\n",
       "Name: device, dtype: int64"
      ]
     },
     "execution_count": 27,
     "metadata": {},
     "output_type": "execute_result"
    }
   ],
   "source": [
    "'''Собираем события и cell_type по msisdn, которые не имеют imei\n",
    "Пытаемся заполнить пробелы в типе устройства, где это возможно'''\n",
    "no_imei_event = data[data.imei.isna()].groupby('msisdn')\\\n",
    "                        .event_type.agg(list).apply(lambda r: set(r)).to_frame().reset_index()\n",
    "no_imei_cell_type = data[data.imei.isna()].groupby('msisdn')\\\n",
    "                        .cell_type.agg(list).apply(lambda r: set(r)).to_frame().reset_index()\n",
    "no_imei = no_imei_event.merge(no_imei_cell_type, on='msisdn')\n",
    "no_imei['device'] = no_imei.apply(lambda r: fill_device_type(r[1], r[2]), axis=1)\n",
    "no_imei.device.value_counts()"
   ]
  },
  {
   "cell_type": "code",
   "execution_count": 28,
   "metadata": {},
   "outputs": [
    {
     "data": {
      "text/plain": [
       "0"
      ]
     },
     "execution_count": 28,
     "metadata": {},
     "output_type": "execute_result"
    }
   ],
   "source": [
    "'''создаем словарь для заполнения типов устройств и применяем его'''\n",
    "msisdn2device = {key:val for key, val in no_imei[['msisdn', 'device']].values}\n",
    "data.loc[data.imei.isna(), 'type'] = data.loc[data.imei.isna(), 'msisdn'].map(msisdn2device)\n",
    "del no_imei, msisdn2device\n",
    "gc.collect()"
   ]
  },
  {
   "cell_type": "markdown",
   "metadata": {},
   "source": [
    "### Делаем некоторые преобразования с data"
   ]
  },
  {
   "cell_type": "code",
   "execution_count": 29,
   "metadata": {},
   "outputs": [
    {
     "data": {
      "text/html": [
       "<div>\n",
       "<style scoped>\n",
       "    .dataframe tbody tr th:only-of-type {\n",
       "        vertical-align: middle;\n",
       "    }\n",
       "\n",
       "    .dataframe tbody tr th {\n",
       "        vertical-align: top;\n",
       "    }\n",
       "\n",
       "    .dataframe thead th {\n",
       "        text-align: right;\n",
       "    }\n",
       "</style>\n",
       "<table border=\"1\" class=\"dataframe\">\n",
       "  <thead>\n",
       "    <tr style=\"text-align: right;\">\n",
       "      <th></th>\n",
       "      <th>lac</th>\n",
       "      <th>cid</th>\n",
       "      <th>msisdn</th>\n",
       "      <th>imei</th>\n",
       "      <th>event_type</th>\n",
       "      <th>tstamp</th>\n",
       "      <th>long</th>\n",
       "      <th>lat</th>\n",
       "      <th>max_dist</th>\n",
       "      <th>cell_type</th>\n",
       "      <th>start_angle</th>\n",
       "      <th>end_angle</th>\n",
       "      <th>vendor</th>\n",
       "      <th>platform</th>\n",
       "      <th>type</th>\n",
       "      <th>day_of_week</th>\n",
       "      <th>day_of_month</th>\n",
       "      <th>minutes</th>\n",
       "      <th>work_day</th>\n",
       "      <th>night</th>\n",
       "    </tr>\n",
       "  </thead>\n",
       "  <tbody>\n",
       "    <tr>\n",
       "      <th>0</th>\n",
       "      <td>5029</td>\n",
       "      <td>40798</td>\n",
       "      <td>158529599791</td>\n",
       "      <td>353111050313790</td>\n",
       "      <td>0</td>\n",
       "      <td>2013-05-22 20:00:00.974</td>\n",
       "      <td>37.9305</td>\n",
       "      <td>55.7815</td>\n",
       "      <td>2101</td>\n",
       "      <td>OUTDOOR</td>\n",
       "      <td>220.0</td>\n",
       "      <td>280.0</td>\n",
       "      <td>LG</td>\n",
       "      <td>Android</td>\n",
       "      <td>SmartPhone</td>\n",
       "      <td>Wednesday</td>\n",
       "      <td>22</td>\n",
       "      <td>1200</td>\n",
       "      <td>False</td>\n",
       "      <td>True</td>\n",
       "    </tr>\n",
       "    <tr>\n",
       "      <th>1</th>\n",
       "      <td>7782</td>\n",
       "      <td>56870</td>\n",
       "      <td>158520145943</td>\n",
       "      <td>012929002676510</td>\n",
       "      <td>5</td>\n",
       "      <td>2013-05-22 20:00:01.396</td>\n",
       "      <td>37.4239</td>\n",
       "      <td>55.7426</td>\n",
       "      <td>2</td>\n",
       "      <td>OUTDOOR</td>\n",
       "      <td>45.0</td>\n",
       "      <td>105.0</td>\n",
       "      <td>Apple</td>\n",
       "      <td>iOS</td>\n",
       "      <td>Laptop</td>\n",
       "      <td>Wednesday</td>\n",
       "      <td>22</td>\n",
       "      <td>1200</td>\n",
       "      <td>False</td>\n",
       "      <td>True</td>\n",
       "    </tr>\n",
       "    <tr>\n",
       "      <th>2</th>\n",
       "      <td>7794</td>\n",
       "      <td>32226</td>\n",
       "      <td>158521798391</td>\n",
       "      <td>351994049226010</td>\n",
       "      <td>5</td>\n",
       "      <td>2013-05-22 20:00:02.013</td>\n",
       "      <td>37.7034</td>\n",
       "      <td>55.5803</td>\n",
       "      <td>1125</td>\n",
       "      <td>OUTDOOR</td>\n",
       "      <td>0.0</td>\n",
       "      <td>60.0</td>\n",
       "      <td>Nokia</td>\n",
       "      <td>ISA</td>\n",
       "      <td>Phone</td>\n",
       "      <td>Wednesday</td>\n",
       "      <td>22</td>\n",
       "      <td>1200</td>\n",
       "      <td>False</td>\n",
       "      <td>True</td>\n",
       "    </tr>\n",
       "    <tr>\n",
       "      <th>3</th>\n",
       "      <td>7758</td>\n",
       "      <td>33528</td>\n",
       "      <td>158537830573</td>\n",
       "      <td>358627016731770</td>\n",
       "      <td>0</td>\n",
       "      <td>2013-05-22 20:00:02.331</td>\n",
       "      <td>37.7895</td>\n",
       "      <td>55.7042</td>\n",
       "      <td>1158</td>\n",
       "      <td>OUTDOOR</td>\n",
       "      <td>210.0</td>\n",
       "      <td>270.0</td>\n",
       "      <td>Nokia</td>\n",
       "      <td>ISA</td>\n",
       "      <td>Phone</td>\n",
       "      <td>Wednesday</td>\n",
       "      <td>22</td>\n",
       "      <td>1200</td>\n",
       "      <td>False</td>\n",
       "      <td>True</td>\n",
       "    </tr>\n",
       "    <tr>\n",
       "      <th>4</th>\n",
       "      <td>5060</td>\n",
       "      <td>17568</td>\n",
       "      <td>158510204039</td>\n",
       "      <td>352458051767250</td>\n",
       "      <td>8</td>\n",
       "      <td>2013-05-22 20:00:03.586</td>\n",
       "      <td>37.1900</td>\n",
       "      <td>55.8308</td>\n",
       "      <td>500</td>\n",
       "      <td>OUTDOOR</td>\n",
       "      <td>180.0</td>\n",
       "      <td>240.0</td>\n",
       "      <td>Samsung</td>\n",
       "      <td>Proprietary</td>\n",
       "      <td>Phone</td>\n",
       "      <td>Wednesday</td>\n",
       "      <td>22</td>\n",
       "      <td>1200</td>\n",
       "      <td>False</td>\n",
       "      <td>True</td>\n",
       "    </tr>\n",
       "  </tbody>\n",
       "</table>\n",
       "</div>"
      ],
      "text/plain": [
       "    lac    cid        msisdn             imei  event_type  \\\n",
       "0  5029  40798  158529599791  353111050313790           0   \n",
       "1  7782  56870  158520145943  012929002676510           5   \n",
       "2  7794  32226  158521798391  351994049226010           5   \n",
       "3  7758  33528  158537830573  358627016731770           0   \n",
       "4  5060  17568  158510204039  352458051767250           8   \n",
       "\n",
       "                   tstamp     long      lat  max_dist cell_type  start_angle  \\\n",
       "0 2013-05-22 20:00:00.974  37.9305  55.7815      2101   OUTDOOR        220.0   \n",
       "1 2013-05-22 20:00:01.396  37.4239  55.7426         2   OUTDOOR         45.0   \n",
       "2 2013-05-22 20:00:02.013  37.7034  55.5803      1125   OUTDOOR          0.0   \n",
       "3 2013-05-22 20:00:02.331  37.7895  55.7042      1158   OUTDOOR        210.0   \n",
       "4 2013-05-22 20:00:03.586  37.1900  55.8308       500   OUTDOOR        180.0   \n",
       "\n",
       "   end_angle   vendor     platform        type day_of_week  day_of_month  \\\n",
       "0      280.0       LG      Android  SmartPhone   Wednesday            22   \n",
       "1      105.0    Apple          iOS      Laptop   Wednesday            22   \n",
       "2       60.0    Nokia          ISA       Phone   Wednesday            22   \n",
       "3      270.0    Nokia          ISA       Phone   Wednesday            22   \n",
       "4      240.0  Samsung  Proprietary       Phone   Wednesday            22   \n",
       "\n",
       "   minutes  work_day  night  \n",
       "0     1200     False   True  \n",
       "1     1200     False   True  \n",
       "2     1200     False   True  \n",
       "3     1200     False   True  \n",
       "4     1200     False   True  "
      ]
     },
     "execution_count": 29,
     "metadata": {},
     "output_type": "execute_result"
    }
   ],
   "source": [
    "'''преобразуем данные в формат даты/времени'''\n",
    "data.tstamp = data.tstamp/1000\n",
    "data.tstamp = data.tstamp.apply(datetime.datetime.utcfromtimestamp)\n",
    "'''получаем имя дня недели'''\n",
    "data['day_of_week'] = data.tstamp.dt.day_name()\n",
    "'''получаем день месяца'''\n",
    "data['day_of_month'] = data.tstamp.dt.day\n",
    "'''получаем время в минутах, в пределах одного дня''' \n",
    "data['minutes'] = data.tstamp.dt.hour * 60 + data.tstamp.dt.minute\n",
    "'''делим сутки на день и ночь (возможно тут стоит еще поэкспериментировать с временными границами\n",
    "и количеством делений дня на части)''' \n",
    "data['work_day'] = (data.tstamp.dt.hour > 8) & (data.tstamp.dt.hour < 20)\n",
    "data['night'] = (data.tstamp.dt.hour <= 8) | (data.tstamp.dt.hour >= 20)\n",
    "data.head()"
   ]
  },
  {
   "cell_type": "code",
   "execution_count": 30,
   "metadata": {},
   "outputs": [
    {
     "name": "stdout",
     "output_type": "stream",
     "text": [
      "(866, 20)\n",
      "(2235, 20)\n",
      "(2247, 20)\n",
      "(2144, 20)\n",
      "(2, 20)\n",
      "(2, 20)\n",
      "(2, 20)\n"
     ]
    }
   ],
   "source": [
    "print(data[data.day_of_month==22].drop_duplicates('msisdn').shape)\n",
    "print(data[data.day_of_month==23].drop_duplicates('msisdn').shape)\n",
    "print(data[data.day_of_month==24].drop_duplicates('msisdn').shape)\n",
    "print(data[data.day_of_month==25].drop_duplicates('msisdn').shape)\n",
    "print(data[data.day_of_month==28].drop_duplicates('msisdn').shape)\n",
    "print(data[data.day_of_month==29].drop_duplicates('msisdn').shape)\n",
    "print(data[data.day_of_month==30].drop_duplicates('msisdn').shape)"
   ]
  },
  {
   "cell_type": "code",
   "execution_count": 31,
   "metadata": {
    "scrolled": true
   },
   "outputs": [],
   "source": [
    "'''Оставляем данные по трем дням, по которым есть данные почти по всем симкам\n",
    "22-й день имеет малую чать записей и только на конец дня, 28-30 имеют записи лишь по 2 симкам\n",
    "'''\n",
    "\n",
    "data = data[data.day_of_month.isin([23,24,25])]"
   ]
  },
  {
   "cell_type": "markdown",
   "metadata": {},
   "source": [
    "Применяем кодирование категориальных признаков и удаляем столбцы, которые не планируем использовать"
   ]
  },
  {
   "cell_type": "code",
   "execution_count": 32,
   "metadata": {},
   "outputs": [],
   "source": [
    "data = pd.concat([data, pd.get_dummies(data.cell_type),\n",
    "                        pd.get_dummies(data.event_type, prefix='event'),\n",
    "                        pd.get_dummies(data.type),],\n",
    "                 axis=1)\n",
    "data.drop(['vendor', 'cell_type', 'event_type', 'platform', 'type'], axis=1, inplace=True)"
   ]
  },
  {
   "cell_type": "markdown",
   "metadata": {},
   "source": [
    "### Строим вектора для симок"
   ]
  },
  {
   "cell_type": "code",
   "execution_count": 33,
   "metadata": {},
   "outputs": [],
   "source": [
    "def make_cat_vector(df):\n",
    "    '''Создает категориальную часть вектора признаков + некоторые дополнительные признаки,\n",
    "    ск оторыми так же как и с категориальными не будет производится математических операций\n",
    "    при формировании совместного вектора для двух симок\n",
    "    df - исходный набор данных\n",
    "    return - new_df - трансформированный набор данных'''\n",
    "    new_df = df.groupby('msisdn').agg(sum).loc[:,'INDOOR':'USB_Network']\n",
    "    new_df.loc[:,'Data card':'USB_Network'] = new_df.loc[:, 'Data card':'USB_Network']/new_df.loc[:,'Data card':'USB_Network']\n",
    "    new_df = new_df.fillna(0)\n",
    "    new_df['num_imei'] = df.drop_duplicates(['msisdn', 'imei']).groupby('msisdn').imei.agg(list).apply(lambda r: len(r))\n",
    "    new_df['num_event'] = new_df[[c for c in new_df.columns if c.startswith('event_')]].sum(axis=1).astype(int)\n",
    "    new_df['mean_event'] = new_df['num_event']/df.day_of_month.nunique()\n",
    "    new_df['num_lac'] = df.drop_duplicates(['msisdn', 'lac']).groupby('msisdn').lac.agg(list).apply(lambda r: len(r))\n",
    "    new_df['num_cid'] = df.drop_duplicates(['msisdn', 'cid']).groupby('msisdn').cid.agg(list).apply(lambda r: len(r))\n",
    "    new_df['mean_lac'] = new_df['num_lac']/df.day_of_month.nunique()\n",
    "    new_df['mean_cid'] = new_df['num_cid']/df.day_of_month.nunique()\n",
    "    return new_df"
   ]
  },
  {
   "cell_type": "markdown",
   "metadata": {},
   "source": [
    "Набор \"категориальной\" части векторов"
   ]
  },
  {
   "cell_type": "code",
   "execution_count": 34,
   "metadata": {
    "scrolled": true
   },
   "outputs": [
    {
     "data": {
      "text/html": [
       "<div>\n",
       "<style scoped>\n",
       "    .dataframe tbody tr th:only-of-type {\n",
       "        vertical-align: middle;\n",
       "    }\n",
       "\n",
       "    .dataframe tbody tr th {\n",
       "        vertical-align: top;\n",
       "    }\n",
       "\n",
       "    .dataframe thead th {\n",
       "        text-align: right;\n",
       "    }\n",
       "</style>\n",
       "<table border=\"1\" class=\"dataframe\">\n",
       "  <thead>\n",
       "    <tr style=\"text-align: right;\">\n",
       "      <th></th>\n",
       "      <th>INDOOR</th>\n",
       "      <th>METRO</th>\n",
       "      <th>OUTDOOR</th>\n",
       "      <th>event_0</th>\n",
       "      <th>event_1</th>\n",
       "      <th>event_2</th>\n",
       "      <th>event_3</th>\n",
       "      <th>event_5</th>\n",
       "      <th>event_6</th>\n",
       "      <th>event_7</th>\n",
       "      <th>...</th>\n",
       "      <th>Smart_Lap_Phone</th>\n",
       "      <th>USB modem</th>\n",
       "      <th>USB_Network</th>\n",
       "      <th>num_imei</th>\n",
       "      <th>num_event</th>\n",
       "      <th>mean_event</th>\n",
       "      <th>num_lac</th>\n",
       "      <th>num_cid</th>\n",
       "      <th>mean_lac</th>\n",
       "      <th>mean_cid</th>\n",
       "    </tr>\n",
       "    <tr>\n",
       "      <th>msisdn</th>\n",
       "      <th></th>\n",
       "      <th></th>\n",
       "      <th></th>\n",
       "      <th></th>\n",
       "      <th></th>\n",
       "      <th></th>\n",
       "      <th></th>\n",
       "      <th></th>\n",
       "      <th></th>\n",
       "      <th></th>\n",
       "      <th></th>\n",
       "      <th></th>\n",
       "      <th></th>\n",
       "      <th></th>\n",
       "      <th></th>\n",
       "      <th></th>\n",
       "      <th></th>\n",
       "      <th></th>\n",
       "      <th></th>\n",
       "      <th></th>\n",
       "      <th></th>\n",
       "    </tr>\n",
       "  </thead>\n",
       "  <tbody>\n",
       "    <tr>\n",
       "      <th>158500002513</th>\n",
       "      <td>0.0</td>\n",
       "      <td>0.0</td>\n",
       "      <td>8.0</td>\n",
       "      <td>0.0</td>\n",
       "      <td>2.0</td>\n",
       "      <td>1.0</td>\n",
       "      <td>0.0</td>\n",
       "      <td>5.0</td>\n",
       "      <td>0.0</td>\n",
       "      <td>0.0</td>\n",
       "      <td>...</td>\n",
       "      <td>0.0</td>\n",
       "      <td>0.0</td>\n",
       "      <td>0.0</td>\n",
       "      <td>1</td>\n",
       "      <td>8</td>\n",
       "      <td>2.666667</td>\n",
       "      <td>1</td>\n",
       "      <td>2</td>\n",
       "      <td>0.333333</td>\n",
       "      <td>0.666667</td>\n",
       "    </tr>\n",
       "    <tr>\n",
       "      <th>158500006927</th>\n",
       "      <td>0.0</td>\n",
       "      <td>0.0</td>\n",
       "      <td>141.0</td>\n",
       "      <td>14.0</td>\n",
       "      <td>18.0</td>\n",
       "      <td>14.0</td>\n",
       "      <td>8.0</td>\n",
       "      <td>56.0</td>\n",
       "      <td>0.0</td>\n",
       "      <td>1.0</td>\n",
       "      <td>...</td>\n",
       "      <td>0.0</td>\n",
       "      <td>0.0</td>\n",
       "      <td>1.0</td>\n",
       "      <td>3</td>\n",
       "      <td>141</td>\n",
       "      <td>47.000000</td>\n",
       "      <td>10</td>\n",
       "      <td>53</td>\n",
       "      <td>3.333333</td>\n",
       "      <td>17.666667</td>\n",
       "    </tr>\n",
       "    <tr>\n",
       "      <th>158500010757</th>\n",
       "      <td>12.0</td>\n",
       "      <td>0.0</td>\n",
       "      <td>97.0</td>\n",
       "      <td>14.0</td>\n",
       "      <td>9.0</td>\n",
       "      <td>21.0</td>\n",
       "      <td>4.0</td>\n",
       "      <td>22.0</td>\n",
       "      <td>0.0</td>\n",
       "      <td>0.0</td>\n",
       "      <td>...</td>\n",
       "      <td>0.0</td>\n",
       "      <td>0.0</td>\n",
       "      <td>1.0</td>\n",
       "      <td>2</td>\n",
       "      <td>109</td>\n",
       "      <td>36.333333</td>\n",
       "      <td>9</td>\n",
       "      <td>46</td>\n",
       "      <td>3.000000</td>\n",
       "      <td>15.333333</td>\n",
       "    </tr>\n",
       "    <tr>\n",
       "      <th>158500013119</th>\n",
       "      <td>1.0</td>\n",
       "      <td>0.0</td>\n",
       "      <td>127.0</td>\n",
       "      <td>73.0</td>\n",
       "      <td>3.0</td>\n",
       "      <td>18.0</td>\n",
       "      <td>9.0</td>\n",
       "      <td>0.0</td>\n",
       "      <td>0.0</td>\n",
       "      <td>3.0</td>\n",
       "      <td>...</td>\n",
       "      <td>0.0</td>\n",
       "      <td>0.0</td>\n",
       "      <td>1.0</td>\n",
       "      <td>2</td>\n",
       "      <td>128</td>\n",
       "      <td>42.666667</td>\n",
       "      <td>19</td>\n",
       "      <td>80</td>\n",
       "      <td>6.333333</td>\n",
       "      <td>26.666667</td>\n",
       "    </tr>\n",
       "    <tr>\n",
       "      <th>158500019021</th>\n",
       "      <td>0.0</td>\n",
       "      <td>0.0</td>\n",
       "      <td>32.0</td>\n",
       "      <td>10.0</td>\n",
       "      <td>0.0</td>\n",
       "      <td>7.0</td>\n",
       "      <td>0.0</td>\n",
       "      <td>1.0</td>\n",
       "      <td>0.0</td>\n",
       "      <td>0.0</td>\n",
       "      <td>...</td>\n",
       "      <td>0.0</td>\n",
       "      <td>0.0</td>\n",
       "      <td>0.0</td>\n",
       "      <td>1</td>\n",
       "      <td>32</td>\n",
       "      <td>10.666667</td>\n",
       "      <td>5</td>\n",
       "      <td>25</td>\n",
       "      <td>1.666667</td>\n",
       "      <td>8.333333</td>\n",
       "    </tr>\n",
       "  </tbody>\n",
       "</table>\n",
       "<p>5 rows × 28 columns</p>\n",
       "</div>"
      ],
      "text/plain": [
       "              INDOOR  METRO  OUTDOOR  event_0  event_1  event_2  event_3  \\\n",
       "msisdn                                                                     \n",
       "158500002513     0.0    0.0      8.0      0.0      2.0      1.0      0.0   \n",
       "158500006927     0.0    0.0    141.0     14.0     18.0     14.0      8.0   \n",
       "158500010757    12.0    0.0     97.0     14.0      9.0     21.0      4.0   \n",
       "158500013119     1.0    0.0    127.0     73.0      3.0     18.0      9.0   \n",
       "158500019021     0.0    0.0     32.0     10.0      0.0      7.0      0.0   \n",
       "\n",
       "              event_5  event_6  event_7  ...  Smart_Lap_Phone  USB modem  \\\n",
       "msisdn                                   ...                               \n",
       "158500002513      5.0      0.0      0.0  ...              0.0        0.0   \n",
       "158500006927     56.0      0.0      1.0  ...              0.0        0.0   \n",
       "158500010757     22.0      0.0      0.0  ...              0.0        0.0   \n",
       "158500013119      0.0      0.0      3.0  ...              0.0        0.0   \n",
       "158500019021      1.0      0.0      0.0  ...              0.0        0.0   \n",
       "\n",
       "              USB_Network  num_imei  num_event  mean_event  num_lac  num_cid  \\\n",
       "msisdn                                                                         \n",
       "158500002513          0.0         1          8    2.666667        1        2   \n",
       "158500006927          1.0         3        141   47.000000       10       53   \n",
       "158500010757          1.0         2        109   36.333333        9       46   \n",
       "158500013119          1.0         2        128   42.666667       19       80   \n",
       "158500019021          0.0         1         32   10.666667        5       25   \n",
       "\n",
       "              mean_lac   mean_cid  \n",
       "msisdn                             \n",
       "158500002513  0.333333   0.666667  \n",
       "158500006927  3.333333  17.666667  \n",
       "158500010757  3.000000  15.333333  \n",
       "158500013119  6.333333  26.666667  \n",
       "158500019021  1.666667   8.333333  \n",
       "\n",
       "[5 rows x 28 columns]"
      ]
     },
     "execution_count": 34,
     "metadata": {},
     "output_type": "execute_result"
    }
   ],
   "source": [
    "df_cat_vectors = make_cat_vector(data)\n",
    "df_cat_vectors.head()"
   ]
  },
  {
   "cell_type": "markdown",
   "metadata": {},
   "source": [
    "Проверяем, что не потеряли данные"
   ]
  },
  {
   "cell_type": "code",
   "execution_count": 35,
   "metadata": {},
   "outputs": [
    {
     "data": {
      "text/plain": [
       "(2358, (2358, 28))"
      ]
     },
     "execution_count": 35,
     "metadata": {},
     "output_type": "execute_result"
    }
   ],
   "source": [
    "data.msisdn.nunique(), df_cat_vectors.shape"
   ]
  },
  {
   "cell_type": "markdown",
   "metadata": {},
   "source": [
    "Строим вектора передвижений абонента во времени"
   ]
  },
  {
   "cell_type": "code",
   "execution_count": 83,
   "metadata": {},
   "outputs": [],
   "source": [
    "def get_nearest(vector1, vector2):\n",
    "    '''Возвращает косинусное расстояние между векторами\n",
    "    vector1 - первый вектор\n",
    "    vector2 - второй вектор\n",
    "    return - dist - косинусное расстояние\n",
    "    '''\n",
    "    return scipy.spatial.distance.cosine(vector1, vector2)\n",
    "\n",
    "def make_vector(df, index, column, values):\n",
    "    '''Собирает записи по каждой симке в единый вектор\n",
    "    df - исходный набор данных\n",
    "    index - имя колонки, которая станет индексом\n",
    "    column - имя колонки, значения которой станут столбцами\n",
    "    values - имена колонок, данные из которых заполнят таблицу\n",
    "    return vectors_df - модифицированный набор данных\n",
    "    '''\n",
    "    vectors_df = df.copy()\n",
    "    vectors_df.drop_duplicates([index, column], inplace=True)\n",
    "    vectors_df = vectors_df.pivot(index=index, columns=column, values=values)#.fillna(axis=1, method='ffill').dropna(axis=1)\n",
    "    return vectors_df\n",
    "\n",
    "def make_day_vectors(df, day, step=60):\n",
    "    '''Разбивает данные за день по каждой симке на равные диапазоны с заданным шагом,\n",
    "    чтобы затем получить равные временные вектора по всем симкам\n",
    "    df - исходный набор данных\n",
    "    day - день, по которому фильтровать\n",
    "    step - шаг (в минутах) с которым строить временной вектор\n",
    "    return - day_df - преобразованный набор данных за выбранный день'''\n",
    "    day_df = df[df.day_of_month==day][['msisdn', 'long', 'lat', 'minutes']].copy()\n",
    "    day_df['point'] = -1\n",
    "    for i, start in enumerate(range(0, 24 * 60 + 1, step)):\n",
    "        day_df.loc[(day_df.minutes >= start) & (day_df.minutes < start + step), 'point'] = i \n",
    "    day_df.drop('minutes', axis=1, inplace=True)\n",
    "    day_df = make_vector(day_df, 'msisdn', 'point', ['long', 'lat'])\n",
    "    return day_df\n",
    "\n",
    "def make_dfs(df, days, step=60):\n",
    "    '''Создает словарь с преобразованными наборами данных за выбранные дни.\n",
    "    К тому же, разбивает их на день и ночь\n",
    "    df - исходный набор данных\n",
    "    days - дни, по которым строить словарь\n",
    "    step - шаг, который бьет день на равное для всех симок количество временных отрезков\n",
    "    return - dfs - словарь, содержащий количество дней*2 значений (за каждый день: ночь и день)'''\n",
    "    df_day = df[df.work_day==1].copy()\n",
    "    df_night = df[df.night==1].copy()\n",
    "    dfs = {}\n",
    "    for day in days:\n",
    "        dfs['day_{}'.format(day)] = make_day_vectors(df_day, day, step)\n",
    "        dfs['night_{}'.format(day)] = make_day_vectors(df_night, day, step)\n",
    "    return dfs\n",
    "\n",
    "def merge_dist_vectors(dfs, sims1, sims2, train_mode=True):\n",
    "    '''Находит расстояние между двумя векторами и складывает их в новый набор данных\n",
    "    sims1 - номера первых симок в паре\n",
    "    sims2 - номера вторых симок в паре\n",
    "    dfs - наборы данных с векторами по каждой симке\n",
    "    train_mode - тренировочный или тестовый режим\n",
    "    return - df с новыми векторами, образованными из двух входящих векторов за каждый день и каждую ночь'''\n",
    "    vectors_dict = {}\n",
    "    for sim1, sim2 in zip(sims1, sims2):\n",
    "        feature_list = []\n",
    "        for name, df in dfs.items():\n",
    "            df2vec1 = df[df.index.isin([sim1, sim2])]\n",
    "            df2vec2 = df2vec1.dropna(axis=1)\n",
    "\n",
    "            if df2vec2.shape[0] < 2:\n",
    "                feature_list.extend([np.nan, np.nan, np.nan])\n",
    "                continue\n",
    "            if df2vec2.shape[1] < 2:\n",
    "                df2vec1 = df2vec1.fillna(0)\n",
    "                feature_list.extend([0, df2vec1.shape[1], get_nearest(df2vec1.values[0],df2vec1.values[1])])\n",
    "                continue\n",
    "            feature_list.extend([1, df2vec2.shape[1], get_nearest(df2vec2.values[0],df2vec2.values[1])])\n",
    "        if train_mode:\n",
    "            vectors_dict['{}_{}'.format(sim1, sim2)] = np.array(feature_list)\n",
    "            vectors_dict['{}_{}'.format(sim2, sim1)] = np.array(feature_list)\n",
    "        else:\n",
    "            vectors_dict['{}_{}'.format(sim1, sim2)] = np.array(feature_list)\n",
    "    return pd.DataFrame(vectors_dict).T.fillna(-1)\n",
    "        \n",
    "def merge_cat_vectors(df, sims1, sims2, labs, train_mode=True):\n",
    "    '''Формируем набор данных с векторами методом конкатенации двух отдельных векторов\n",
    "    df - \n",
    "    sims1 - номера первых симок в паре\n",
    "    sims2 - номера вторых симок в паре\n",
    "    labs - метки классов\n",
    "    train_mode - тренировочный или тестовый режим\n",
    "    return - df - набор данных из парных векторов'''\n",
    "    vectors_dict = {}\n",
    "    for sim1, sim2, lab in zip(sims1, sims2, labs):\n",
    "        if train_mode:\n",
    "            vectors_dict['{}_{}'.format(sim1, sim2)] = np.concatenate((df[df.index==sim1].values,\n",
    "                                                                       df[df.index==sim2].values,\n",
    "                                                                       np.array([[lab]])\n",
    "                                                                      ),\n",
    "                                                                      axis=1).ravel()\n",
    "            vectors_dict['{}_{}'.format(sim2, sim1)] = np.concatenate((df[df.index==sim2].values,\n",
    "                                                                       df[df.index==sim1].values,\n",
    "                                                                       np.array([[lab]])\n",
    "                                                                      ),\n",
    "                                                                      axis=1).ravel()\n",
    "        else:\n",
    "            vectors_dict['{}_{}'.format(sim1, sim2)] = np.concatenate((df[df.index==sim1].values,\n",
    "                                                                       df[df.index==sim2].values\n",
    "                                                                      ),\n",
    "                                                                      axis=1).ravel()\n",
    "    return pd.DataFrame(vectors_dict).T"
   ]
  },
  {
   "cell_type": "markdown",
   "metadata": {},
   "source": [
    "Словарь с наборами данных по всем дням и ночам с векторами перемещения во времени"
   ]
  },
  {
   "cell_type": "code",
   "execution_count": 37,
   "metadata": {},
   "outputs": [
    {
     "data": {
      "text/plain": [
       "dict_keys(['day_23', 'night_23', 'day_24', 'night_24', 'day_25', 'night_25'])"
      ]
     },
     "execution_count": 37,
     "metadata": {},
     "output_type": "execute_result"
    }
   ],
   "source": [
    "dfs = make_dfs(data, [23,24,25], 60)\n",
    "dfs.keys()"
   ]
  },
  {
   "cell_type": "markdown",
   "metadata": {},
   "source": [
    "## Формируем обучающий набор"
   ]
  },
  {
   "cell_type": "markdown",
   "metadata": {},
   "source": [
    "Проверяем, чтобы все симки, которые в учебном наборе, были  в нашем рабочем наборе данных"
   ]
  },
  {
   "cell_type": "code",
   "execution_count": 38,
   "metadata": {},
   "outputs": [
    {
     "data": {
      "text/plain": [
       "(118, 2)"
      ]
     },
     "execution_count": 38,
     "metadata": {},
     "output_type": "execute_result"
    }
   ],
   "source": [
    "facts = facts[['first', 'second']]\n",
    "facts['first'] = facts['first'].apply(data_exist)\n",
    "facts['second'] = facts['second'].apply(data_exist)\n",
    "facts.dropna(inplace=True)\n",
    "facts['first'] = facts['first'].astype(int)\n",
    "facts['second'] = facts['second'].astype(int)\n",
    "facts.shape"
   ]
  },
  {
   "cell_type": "code",
   "execution_count": 39,
   "metadata": {},
   "outputs": [],
   "source": [
    "def train_sims(df, datas):\n",
    "    '''Формирует обучащий набор данных\n",
    "    df - набор данных с правильными ответами\n",
    "    datas - набор всех рабочих векторов\n",
    "    return - sims1, sims2, labs - вектора симок и метки соответствующие их парам'''\n",
    "    sims1, sims2, labs = [], [], []\n",
    "    for sim1, sim2 in df.values:\n",
    "        sims1.append(sim1)\n",
    "        sims2.append(sim2)\n",
    "        labs.append(1)\n",
    "    new_df = pd.DataFrame()\n",
    "    new_df['1'] = df['first'].copy()\n",
    "    new_df['2'] = np.array(df['second'].to_list()[::-1]).reshape((-1,1))\n",
    "    new_df['3'] = datas[~datas.index.isin(df['first'].values)\n",
    "                        & ~datas.index.isin(df['second'].values)]\\\n",
    "                        .sample(df.shape[0]).index\n",
    "    for sim1, sim2, sim3 in new_df.values:\n",
    "        sims1.append(sim1)\n",
    "        sims2.append(sim2)\n",
    "        sims1.append(sim1)\n",
    "        sims2.append(sim3)\n",
    "        labs.append(0)\n",
    "        labs.append(0)\n",
    "    return sims1, sims2, labs"
   ]
  },
  {
   "cell_type": "markdown",
   "metadata": {},
   "source": [
    "Готовим пары симок"
   ]
  },
  {
   "cell_type": "code",
   "execution_count": 40,
   "metadata": {},
   "outputs": [
    {
     "data": {
      "text/plain": [
       "(354, 354, 354)"
      ]
     },
     "execution_count": 40,
     "metadata": {},
     "output_type": "execute_result"
    }
   ],
   "source": [
    "sims1, sims2, labs = train_sims(facts, df_cat_vectors)\n",
    "len(sims1), len(sims2), len(labs)"
   ]
  },
  {
   "cell_type": "markdown",
   "metadata": {},
   "source": [
    "Готовим парные \"категориальные\" вектора"
   ]
  },
  {
   "cell_type": "code",
   "execution_count": 84,
   "metadata": {},
   "outputs": [],
   "source": [
    "X_cat = merge_cat_vectors(df_cat_vectors, sims1, sims2, labs)"
   ]
  },
  {
   "cell_type": "markdown",
   "metadata": {},
   "source": [
    "Готовим вектора из пар векторов, которые представляют из себя координаты во времени"
   ]
  },
  {
   "cell_type": "code",
   "execution_count": 85,
   "metadata": {},
   "outputs": [],
   "source": [
    "X_dist = merge_dist_vectors(dfs, sims1, sims2)"
   ]
  },
  {
   "cell_type": "markdown",
   "metadata": {},
   "source": [
    "Собираем все вместе"
   ]
  },
  {
   "cell_type": "code",
   "execution_count": 50,
   "metadata": {},
   "outputs": [],
   "source": [
    "X = X_dist.merge(X_cat, left_index=True, right_index=True)\n",
    "y = X.iloc[:, -1].astype(int).values\n",
    "X = X.iloc[:, :-1].values"
   ]
  },
  {
   "cell_type": "code",
   "execution_count": 51,
   "metadata": {},
   "outputs": [
    {
     "data": {
      "text/plain": [
       "((708, 74), (708,))"
      ]
     },
     "execution_count": 51,
     "metadata": {},
     "output_type": "execute_result"
    }
   ],
   "source": [
    "X.shape, y.shape"
   ]
  },
  {
   "cell_type": "markdown",
   "metadata": {},
   "source": [
    "## Переходим к обучению модели"
   ]
  },
  {
   "cell_type": "code",
   "execution_count": 52,
   "metadata": {},
   "outputs": [],
   "source": [
    "from sklearn.ensemble import RandomForestClassifier\n",
    "from sklearn import metrics\n",
    "from sklearn.model_selection import cross_val_score\n",
    "from sklearn.model_selection import train_test_split\n",
    "from sklearn.model_selection import GridSearchCV\n",
    "import seaborn as sns"
   ]
  },
  {
   "cell_type": "code",
   "execution_count": 68,
   "metadata": {},
   "outputs": [],
   "source": [
    "def pred(x_train, x_test, y_train, y_test, verbose=False):\n",
    "     \n",
    "    param_grid = {\n",
    "    \"n_estimators\": [100, 200, 300, 400,500],\n",
    "    \"criterion\": ['entropy'],\n",
    "    \"min_samples_split\": [2, 3, 5, ],\n",
    "    \"max_depth\": [25,50,75,None, ],\n",
    "    \"min_samples_leaf\":[2, 3, 5, ],\n",
    "    \"verbose\":[1, 2, 3, ]\n",
    "    }\n",
    "    \n",
    "    rf = GridSearchCV(RandomForestClassifier(class_weight='balanced',\n",
    "                                             random_state = 42, n_jobs=-1)\n",
    "                      ,param_grid, n_jobs=-1, cv=5)\n",
    "#     rf = RandomForestClassifier(criterion='entropy', max_depth=None, min_samples_leaf=5, min_samples_split=2,\n",
    "#                                 n_estimators=200, verbose=1, random_state = 42, n_jobs=12, class_weight='balanced')\n",
    "    rf.fit(x_train, y_train)\n",
    "    predict = rf.predict(x_test)\n",
    "    best_params = rf.best_params_\n",
    "    print(rf.best_params_)\n",
    "    print('ROC-AUC score: ', metrics.roc_auc_score(y_test, predict))\n",
    "    print(metrics.classification_report(y_test, predict))\n",
    "    print(metrics.confusion_matrix(y_test, predict))\n",
    "\n",
    "    sns.set(font_scale=1.5)\n",
    "    sns.set_color_codes(\"muted\")\n",
    "\n",
    "    plt.figure(figsize=(10, 8))\n",
    "    fpr, tpr, thresholds = metrics.roc_curve(y_test, rf.predict_proba(x_test)[:,1], pos_label=1)\n",
    "    \n",
    "    lw = 2\n",
    "    plt.plot(fpr, tpr, lw=lw, label='ROC curve ')\n",
    "    plt.plot([0, 1], [0, 1])\n",
    "    plt.xlim([0.0, 1.0])\n",
    "    plt.ylim([0.0, 1.05])\n",
    "    plt.xlabel('False Positive Rate')\n",
    "    plt.ylabel('True Positive Rate')\n",
    "    plt.title('ROC curve')\n",
    "    plt.savefig(\"ROC.png\")\n",
    "    plt.show()\n",
    "    return best_params"
   ]
  },
  {
   "cell_type": "code",
   "execution_count": 69,
   "metadata": {
    "scrolled": true
   },
   "outputs": [
    {
     "name": "stderr",
     "output_type": "stream",
     "text": [
      "[Parallel(n_jobs=-1)]: Using backend ThreadingBackend with 4 concurrent workers.\n",
      "[Parallel(n_jobs=-1)]: Done  42 tasks      | elapsed:    0.1s\n",
      "[Parallel(n_jobs=-1)]: Done 192 tasks      | elapsed:    0.6s\n",
      "[Parallel(n_jobs=-1)]: Done 442 tasks      | elapsed:    1.3s\n",
      "[Parallel(n_jobs=-1)]: Done 500 out of 500 | elapsed:    1.5s finished\n",
      "[Parallel(n_jobs=4)]: Using backend ThreadingBackend with 4 concurrent workers.\n",
      "[Parallel(n_jobs=4)]: Done  42 tasks      | elapsed:    0.0s\n",
      "[Parallel(n_jobs=4)]: Done 192 tasks      | elapsed:    0.1s\n",
      "[Parallel(n_jobs=4)]: Done 442 tasks      | elapsed:    0.2s\n",
      "[Parallel(n_jobs=4)]: Done 500 out of 500 | elapsed:    0.2s finished\n"
     ]
    },
    {
     "name": "stdout",
     "output_type": "stream",
     "text": [
      "{'criterion': 'entropy', 'max_depth': 25, 'min_samples_leaf': 3, 'min_samples_split': 2, 'n_estimators': 500, 'verbose': 1}\n",
      "ROC-AUC score:  0.7870124566060854\n",
      "              precision    recall  f1-score   support\n",
      "\n",
      "           0       0.78      0.96      0.86        83\n",
      "           1       0.92      0.61      0.73        59\n",
      "\n",
      "    accuracy                           0.82       142\n",
      "   macro avg       0.85      0.79      0.80       142\n",
      "weighted avg       0.84      0.82      0.81       142\n",
      "\n",
      "[[80  3]\n",
      " [23 36]]\n"
     ]
    },
    {
     "name": "stderr",
     "output_type": "stream",
     "text": [
      "[Parallel(n_jobs=4)]: Using backend ThreadingBackend with 4 concurrent workers.\n",
      "[Parallel(n_jobs=4)]: Done  42 tasks      | elapsed:    0.1s\n",
      "[Parallel(n_jobs=4)]: Done 192 tasks      | elapsed:    0.2s\n",
      "[Parallel(n_jobs=4)]: Done 442 tasks      | elapsed:    0.3s\n",
      "[Parallel(n_jobs=4)]: Done 500 out of 500 | elapsed:    0.3s finished\n"
     ]
    },
    {
     "data": {
      "image/png": "[encoded data removed]",
      "text/plain": [
       "<Figure size 720x576 with 1 Axes>"
      ]
     },
     "metadata": {},
     "output_type": "display_data"
    }
   ],
   "source": [
    "x_train, x_test, y_train, y_test = train_test_split(X, y, test_size=0.2, random_state=42)\n",
    "best_params = pred(x_train, x_test, y_train, y_test, True)"
   ]
  },
  {
   "cell_type": "code",
   "execution_count": 70,
   "metadata": {},
   "outputs": [
    {
     "data": {
      "text/plain": [
       "{'criterion': 'entropy',\n",
       " 'max_depth': 25,\n",
       " 'min_samples_leaf': 3,\n",
       " 'min_samples_split': 2,\n",
       " 'n_estimators': 500,\n",
       " 'verbose': 1}"
      ]
     },
     "execution_count": 70,
     "metadata": {},
     "output_type": "execute_result"
    }
   ],
   "source": [
    "{'criterion': 'entropy', 'max_depth': 25, 'min_samples_leaf': 3, 'min_samples_split': 2, 'n_estimators': 500, 'verbose': 1}"
   ]
  },
  {
   "cell_type": "markdown",
   "metadata": {},
   "source": [
    "Обучаем алгоритм на всех данных и с лучшими параметрами"
   ]
  },
  {
   "cell_type": "code",
   "execution_count": 71,
   "metadata": {},
   "outputs": [
    {
     "name": "stderr",
     "output_type": "stream",
     "text": [
      "[Parallel(n_jobs=1)]: Using backend SequentialBackend with 1 concurrent workers.\n",
      "[Parallel(n_jobs=1)]: Done 500 out of 500 | elapsed:    1.4s finished\n"
     ]
    }
   ],
   "source": [
    "rf_clf = RandomForestClassifier(**best_params)\n",
    "rf_clf.fit(X, y)"
   ]
  },
  {
   "cell_type": "code",
   "execution_count": 72,
   "metadata": {},
   "outputs": [],
   "source": [
    "import pickle\n",
    "with open('search_couples.pickle', 'wb') as handle:\n",
    "    pickle.dump(rf_clf, handle, protocol=2, )"
   ]
  },
  {
   "cell_type": "markdown",
   "metadata": {},
   "source": [
    "## Тестируем"
   ]
  },
  {
   "cell_type": "code",
   "execution_count": 87,
   "metadata": {},
   "outputs": [],
   "source": [
    "without_facts = data[~data.msisdn.isin(facts['first'].values) & ~data.msisdn.isin(facts['second'].values)]\n",
    "without_facts = without_facts[(without_facts['Phone']==1)|(without_facts['SmartPhone']==1)| (without_facts['Laptop']==1)]\n",
    "without_facts = without_facts.msisdn.unique()"
   ]
  },
  {
   "cell_type": "code",
   "execution_count": 165,
   "metadata": {},
   "outputs": [
    {
     "data": {
      "text/plain": [
       "(89658, 89658)"
      ]
     },
     "execution_count": 165,
     "metadata": {},
     "output_type": "execute_result"
    }
   ],
   "source": [
    "sims1, sims2 = [], []\n",
    "i = 211\n",
    "\n",
    "for i in range(i, len(without_facts)):\n",
    "    for j in range(i+1, len(without_facts)):\n",
    "        if without_facts[i] != without_facts[j]:\n",
    "            sims1.append(without_facts[i])\n",
    "            sims2.append(without_facts[j])\n",
    "    i+=1\n",
    "    if i>121:\n",
    "        break\n",
    "len(sims1), len(sims2)"
   ]
  },
  {
   "cell_type": "code",
   "execution_count": 166,
   "metadata": {},
   "outputs": [
    {
     "name": "stdout",
     "output_type": "stream",
     "text": [
      "CPU times: user 2min 12s, sys: 270 ms, total: 2min 13s\n",
      "Wall time: 2min 13s\n"
     ]
    }
   ],
   "source": [
    "%%time\n",
    "X_cat_test = merge_cat_vectors(df_cat_vectors, sims1, sims2, np.zeros(len(sims1)), False)"
   ]
  },
  {
   "cell_type": "code",
   "execution_count": 167,
   "metadata": {},
   "outputs": [
    {
     "name": "stdout",
     "output_type": "stream",
     "text": [
      "CPU times: user 27min 5s, sys: 631 ms, total: 27min 5s\n",
      "Wall time: 27min 5s\n"
     ]
    }
   ],
   "source": [
    "%%time\n",
    "X_dist_test = merge_dist_vectors(dfs, sims1, sims2, False)"
   ]
  },
  {
   "cell_type": "code",
   "execution_count": 168,
   "metadata": {},
   "outputs": [
    {
     "name": "stdout",
     "output_type": "stream",
     "text": [
      "CPU times: user 149 ms, sys: 668 ms, total: 817 ms\n",
      "Wall time: 2.8 s\n"
     ]
    }
   ],
   "source": [
    "%%time\n",
    "X = X_dist_test.merge(X_cat_test, left_index=True, right_index=True)"
   ]
  },
  {
   "cell_type": "code",
   "execution_count": 169,
   "metadata": {},
   "outputs": [
    {
     "name": "stderr",
     "output_type": "stream",
     "text": [
      "[Parallel(n_jobs=1)]: Using backend SequentialBackend with 1 concurrent workers.\n",
      "[Parallel(n_jobs=1)]: Done 500 out of 500 | elapsed:    3.8s finished\n"
     ]
    }
   ],
   "source": [
    "predict = rf_clf.predict_proba(X)\n",
    "X['predict'] = predict[:,1]\n",
    "X['predict'] = X['predict'] > 0.78"
   ]
  },
  {
   "cell_type": "code",
   "execution_count": 170,
   "metadata": {},
   "outputs": [],
   "source": [
    "# couples = []\n",
    "couples.append(X[X['predict']==1].index)"
   ]
  },
  {
   "cell_type": "code",
   "execution_count": 171,
   "metadata": {},
   "outputs": [
    {
     "data": {
      "text/plain": [
       "[Index(['158590838451_158531328719'], dtype='object'),\n",
       " Index(['158534112745_158538380821'], dtype='object'),\n",
       " Index(['158533540347_158590156077', '158533540347_158522480881',\n",
       "        '158533540347_158591851671', '158533540347_158521156315',\n",
       "        '158517977287_158516431899', '158517977287_158530628931',\n",
       "        '158517977287_158531328719', '158517977287_158536840947',\n",
       "        '158517977287_158531864675', '158599493449_158532011719',\n",
       "        ...\n",
       "        '158593871445_158590626873', '158593871445_158526548469',\n",
       "        '158593871445_158506558059', '158593871445_158530628931',\n",
       "        '158593871445_158523980129', '158590044649_158502313605',\n",
       "        '158522023493_158516021289', '158598477289_158522854543',\n",
       "        '158598477289_158500810521', '158503789889_158507044395'],\n",
       "       dtype='object', length=102),\n",
       " Index(['158517454219_158522480881', '158590626873_158514322281',\n",
       "        '158590626873_158599304335', '158538977615_158500930139',\n",
       "        '158538977615_158503730911', '158524948335_158526707759',\n",
       "        '158524948335_158598974849', '158538197409_158508474721',\n",
       "        '158538197409_158530963141', '158538197409_158533891789',\n",
       "        '158598463589_158517972941', '158598463589_158590206143',\n",
       "        '158598463589_158521073049', '158598463589_158501126913',\n",
       "        '158598463589_158520741311', '158598463589_158522480881',\n",
       "        '158598463589_158521156315', '158598463589_158535689611',\n",
       "        '158509345953_158530963141', '158516330577_158503730911',\n",
       "        '158534099673_158514402335', '158534099673_158525274517',\n",
       "        '158534099673_158526707759', '158534099673_158535998147',\n",
       "        '158534099673_158517614915', '158534099673_158532871405',\n",
       "        '158534099673_158537712885', '158534099673_158526227413',\n",
       "        '158534099673_158504682725', '158534099673_158500408895',\n",
       "        '158534099673_158535309997', '158534099673_158523677105',\n",
       "        '158534099673_158501508783', '158534099673_158524547255',\n",
       "        '158522952883_158536427059', '158522952883_158538377103',\n",
       "        '158522952883_158506271533', '158522952883_158523452477',\n",
       "        '158522952883_158534239163', '158522952883_158590239747',\n",
       "        '158514402335_158506004267', '158510912201_158537476909',\n",
       "        '158510912201_158599214323', '158510912201_158516021289',\n",
       "        '158510912201_158535905161', '158590156077_158503200193',\n",
       "        '158590156077_158527388351', '158517527975_158505594097',\n",
       "        '158517527975_158503843721', '158525274517_158526707759',\n",
       "        '158525274517_158517614915', '158525274517_158532871405',\n",
       "        '158525274517_158504682725', '158525274517_158517891087',\n",
       "        '158525274517_158535575063', '158525274517_158536924455',\n",
       "        '158525274517_158535018647', '158525274517_158537167795',\n",
       "        '158525274517_158522854543', '158525274517_158534079533',\n",
       "        '158526707759_158517614915', '158526707759_158504682725',\n",
       "        '158526707759_158500408895', '158526707759_158523273231',\n",
       "        '158526707759_158523677105', '158526707759_158527193343',\n",
       "        '158526707759_158520772933', '158526707759_158504049631',\n",
       "        '158526707759_158526233225', '158526707759_158533421179',\n",
       "        '158526707759_158598656609', '158526707759_158533578111',\n",
       "        '158526707759_158536924455', '158526707759_158537302231',\n",
       "        '158526707759_158598396571', '158526707759_158524093715',\n",
       "        '158526707759_158534633649', '158526707759_158537167795',\n",
       "        '158526707759_158507350023', '158526707759_158538033555',\n",
       "        '158526707759_158529539201', '158526707759_158523705033',\n",
       "        '158526707759_158503730911', '158526707759_158532939981',\n",
       "        '158526707759_158500479921', '158526707759_158534079533',\n",
       "        '158526707759_158525446281', '158526707759_158534104565',\n",
       "        '158524720705_158531802721', '158524720705_158527531553'],\n",
       "       dtype='object')]"
      ]
     },
     "execution_count": 171,
     "metadata": {},
     "output_type": "execute_result"
    }
   ],
   "source": [
    "couples"
   ]
  },
  {
   "cell_type": "code",
   "execution_count": 176,
   "metadata": {},
   "outputs": [],
   "source": [
    "to_txt = []\n",
    "for val in couples:\n",
    "    to_txt.extend(val)\n",
    "to_txt = [val.split('_') for val in to_txt]\n",
    "to_txt = pd.DataFrame(to_txt)\n",
    "to_txt.to_csv('result.txt', sep='\\t', index=False, header=None)"
   ]
  }
 ],
 "metadata": {
  "kernelspec": {
   "display_name": "Python 3",
   "language": "python",
   "name": "python3"
  },
  "language_info": {
   "codemirror_mode": {
    "name": "ipython",
    "version": 3
   },
   "file_extension": ".py",
   "mimetype": "text/x-python",
   "name": "python",
   "nbconvert_exporter": "python",
   "pygments_lexer": "ipython3",
   "version": "3.6.9"
  }
 },
 "nbformat": 4,
 "nbformat_minor": 2
}
