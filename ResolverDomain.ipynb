{
 "cells": [
  {
   "cell_type": "code",
   "execution_count": null,
   "metadata": {},
   "outputs": [],
   "source": [
    "# !pip3 install dnspython\n",
    "# !pip3 install tqdm"
   ]
  },
  {
   "cell_type": "code",
   "execution_count": null,
   "metadata": {},
   "outputs": [],
   "source": [
    "from dns.resolver import query, NXDOMAIN, NoNameservers, Timeout, NoAnswer\n",
    "from dns.name import from_unicode\n",
    "\n",
    "def r(host):\n",
    "    try:\n",
    "        host_record = query(from_unicode(host), \"A\")\n",
    "        if len(host_record) > 0:\n",
    "            return \"OK\"\n",
    "\n",
    "    except NXDOMAIN:\n",
    "        return NXDOMAIN.__name__\n",
    "    except NoNameservers:\n",
    "        return NoNameservers.__name__\n",
    "    except Timeout:\n",
    "        return Timeout.__name__\n",
    "    except NameError:\n",
    "        return NameError.__name__\n",
    "    except NoAnswer:\n",
    "        return NoAnswer.__name__\n",
    "    except Exception as e:\n",
    "        return e.__class__.__name__ + \": \" + str(e)"
   ]
  },
  {
   "cell_type": "code",
   "execution_count": null,
   "metadata": {},
   "outputs": [],
   "source": [
    "import pandas as pd\n",
    "df = pd.read_csv('03_ml_dom.csv', sep='\\t')\n",
    "df = df[:150000]\n",
    "df.head()"
   ]
  },
  {
   "cell_type": "code",
   "execution_count": null,
   "metadata": {},
   "outputs": [],
   "source": [
    "import concurrent\n",
    "from tqdm import tqdm_notebook as tqdm\n",
    "\n",
    "with concurrent.futures.ThreadPoolExecutor(max_workers=12) as executor:\n",
    "\n",
    "    future_to_url = {executor.submit(r, df.domain[ind]): ind for ind in range(len(df))}\n",
    "    for future in concurrent.futures.as_completed(future_to_url):\n",
    "        ind = future_to_url[future]\n",
    "        df.loc[ind, \"dns_ans\"] = future.result()"
   ]
  }
 ],
 "metadata": {
  "kernelspec": {
   "display_name": "Python 3",
   "language": "python",
   "name": "python3"
  },
  "language_info": {
   "codemirror_mode": {
    "name": "ipython",
    "version": 3
   },
   "file_extension": ".py",
   "mimetype": "text/x-python",
   "name": "python",
   "nbconvert_exporter": "python",
   "pygments_lexer": "ipython3",
   "version": "3.6.1"
  }
 },
 "nbformat": 4,
 "nbformat_minor": 2
}
