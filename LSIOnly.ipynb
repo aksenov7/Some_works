{
 "cells": [
  {
   "cell_type": "markdown",
   "metadata": {},
   "source": [
    "# Тренируем ЛСА модель"
   ]
  },
  {
   "cell_type": "code",
   "execution_count": 1,
   "metadata": {},
   "outputs": [],
   "source": [
    "from gensim.models.word2vec import LineSentence\n",
    "from gensim.corpora import Dictionary\n",
    "from gensim.models import LsiModel\n",
    "from gensim import corpora"
   ]
  },
  {
   "cell_type": "markdown",
   "metadata": {},
   "source": [
    "Учим и сохраняем модель пачками по 1 млн."
   ]
  },
  {
   "cell_type": "code",
   "execution_count": 9,
   "metadata": {},
   "outputs": [
    {
     "name": "stdout",
     "output_type": "stream",
     "text": [
      "Start!!!\n",
      "Epoch: 1 the end success\n",
      "Epoch: 2 the end success\n",
      "Epoch: 3 the end success\n",
      "Epoch: 4 the end success\n",
      "Epoch: 5 the end success\n",
      "Epoch: 6 the end success\n",
      "Epoch: 7 the end success\n",
      "Epoch: 8 the end success\n"
     ]
    }
   ],
   "source": [
    "corpus = corpora.MmCorpus('tfidfCorpus_700K.mm')\n",
    "LSI_model = LsiModel(id2word=Dictionary.load_from_text(\"de_dict_700K.dict\"), num_topics = 400)\n",
    "count = 0\n",
    "\n",
    "for i in range(8):\n",
    "    count+=1\n",
    "    LSI_model.add_documents(corpus[i*1000000:(i+1)*1000000])\n",
    "    LSI_model.save(\"LSI/gensim_lsi_model_700K_de{0}\".format(count))\n",
    "    print(\"Epoch: {} the end success\".format(count))"
   ]
  }
 ],
 "metadata": {
  "kernelspec": {
   "display_name": "Python 3",
   "language": "python",
   "name": "python3"
  },
  "language_info": {
   "codemirror_mode": {
    "name": "ipython",
    "version": 3
   },
   "file_extension": ".py",
   "mimetype": "text/x-python",
   "name": "python",
   "nbconvert_exporter": "python",
   "pygments_lexer": "ipython3",
   "version": "3.6.1"
  }
 },
 "nbformat": 4,
 "nbformat_minor": 2
}
