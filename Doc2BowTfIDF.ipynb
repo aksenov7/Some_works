{
 "cells": [
  {
   "cell_type": "markdown",
   "metadata": {},
   "source": [
    "# Сериализуем корпус слов в doc2bow(мешок слов), а затем создаем модель TfIdf и на ее основе сериализуем корпус"
   ]
  },
  {
   "cell_type": "code",
   "execution_count": 1,
   "metadata": {},
   "outputs": [],
   "source": [
    "import gensim\n",
    "from gensim.corpora.dictionary import Dictionary\n",
    "from gensim.models import LdaModel, LsiModel, TfidfModel\n",
    "from gensim import corpora, models, similarities\n",
    "from gensim.models.word2vec import LineSentence"
   ]
  },
  {
   "cell_type": "markdown",
   "metadata": {},
   "source": [
    "Создаем словарь"
   ]
  },
  {
   "cell_type": "code",
   "execution_count": 2,
   "metadata": {},
   "outputs": [],
   "source": [
    "deutch_dict = Dictionary(LineSentence('deutch_cont.txt'))"
   ]
  },
  {
   "cell_type": "code",
   "execution_count": null,
   "metadata": {},
   "outputs": [],
   "source": []
  },
  {
   "cell_type": "code",
   "execution_count": 3,
   "metadata": {},
   "outputs": [],
   "source": [
    "deutch_dict.filter_n_most_frequent(100000)"
   ]
  },
  {
   "cell_type": "code",
   "execution_count": 4,
   "metadata": {},
   "outputs": [],
   "source": [
    "deutch_dict.filter_extremes(no_below=5, no_above=0.3, keep_n=700000)"
   ]
  },
  {
   "cell_type": "code",
   "execution_count": 5,
   "metadata": {},
   "outputs": [
    {
     "name": "stdout",
     "output_type": "stream",
     "text": [
      "(0, 'abibuch')\n",
      "(1, 'ammenzukleb')\n",
      "(2, 'chickhardt')\n",
      "(3, 'ellino')\n",
      "(4, 'notenabgab')\n",
      "(5, 'tufenka')\n",
      "(6, 'verewigung')\n",
      "(7, 'banjado')\n",
      "(8, 'lochanzahl')\n",
      "(9, 'mobeltattoo')\n",
      "(10, 'wandbeleuchtung')\n",
      "(11, 'almera')\n",
      "(12, 'atzkabel')\n",
      "(13, 'audiolo')\n",
      "(14, 'autokonvoi')\n",
      "(15, 'automiet')\n",
      "(16, 'biallo')\n",
      "(17, 'birre')\n",
      "(18, 'bruchmuhl')\n",
      "700000\n"
     ]
    }
   ],
   "source": [
    "c = 0\n",
    "f = 0\n",
    "for i in deutch_dict.items():\n",
    "    f+=1\n",
    "    if f < 20: print(i)\n",
    "    c+=1\n",
    "print(c)"
   ]
  },
  {
   "cell_type": "code",
   "execution_count": 6,
   "metadata": {},
   "outputs": [],
   "source": [
    "deutch_dict.save_as_text('de_dict_700K.dict')"
   ]
  },
  {
   "cell_type": "markdown",
   "metadata": {},
   "source": [
    "Грузим словарь, созданный на основе нашего корпуса"
   ]
  },
  {
   "cell_type": "code",
   "execution_count": 2,
   "metadata": {},
   "outputs": [],
   "source": [
    "# loaded_dct = Dictionary.load_from_text(\"de_dict_500K.dict\")"
   ]
  },
  {
   "cell_type": "markdown",
   "metadata": {},
   "source": [
    "Считываем корпус построчно"
   ]
  },
  {
   "cell_type": "code",
   "execution_count": 3,
   "metadata": {},
   "outputs": [],
   "source": [
    "# from gensim.models.word2vec import LineSentence\n",
    "# corpus = LineSentence(\"germ_content1.txt/part-00000\")"
   ]
  },
  {
   "cell_type": "markdown",
   "metadata": {},
   "source": [
    "Преобразуем корпус на основе словаря в мешок слов"
   ]
  },
  {
   "cell_type": "code",
   "execution_count": 4,
   "metadata": {},
   "outputs": [],
   "source": [
    "# common_corpus = [deutch_dict.doc2bow(text) for text in LineSentence(\"germ_content1.txt/part-00000\")]"
   ]
  },
  {
   "cell_type": "markdown",
   "metadata": {},
   "source": [
    "Сохраняем корпус"
   ]
  },
  {
   "cell_type": "code",
   "execution_count": 7,
   "metadata": {},
   "outputs": [],
   "source": [
    "corpora.MmCorpus.serialize('doc2bowCorpus_700K.mm', \\\n",
    "                [deutch_dict.doc2bow(text) for text in LineSentence(\"deutch_cont.txt\")])"
   ]
  },
  {
   "cell_type": "code",
   "execution_count": 21,
   "metadata": {},
   "outputs": [],
   "source": [
    "# corpus = corpora.MmCorpus('doc2bowCorpus.mm')"
   ]
  },
  {
   "cell_type": "markdown",
   "metadata": {},
   "source": [
    "Обучаем TfIdf модель"
   ]
  },
  {
   "cell_type": "code",
   "execution_count": null,
   "metadata": {},
   "outputs": [],
   "source": [
    "# tfidf = models.TfidfModel(corpora.MmCorpus('doc2bowCorpus.mm'))"
   ]
  },
  {
   "cell_type": "code",
   "execution_count": 8,
   "metadata": {},
   "outputs": [],
   "source": [
    "tfidf = models.TfidfModel(dictionary=deutch_dict)"
   ]
  },
  {
   "cell_type": "code",
   "execution_count": 9,
   "metadata": {},
   "outputs": [],
   "source": [
    "tfidf.save('tfidfModel_700K')"
   ]
  },
  {
   "cell_type": "code",
   "execution_count": 4,
   "metadata": {},
   "outputs": [],
   "source": [
    "# tfidf = TfidfModel.load('tfidfModel')"
   ]
  },
  {
   "cell_type": "code",
   "execution_count": 10,
   "metadata": {},
   "outputs": [
    {
     "data": {
      "text/plain": [
       "7617906"
      ]
     },
     "execution_count": 10,
     "metadata": {},
     "output_type": "execute_result"
    }
   ],
   "source": [
    "tfidf.num_docs"
   ]
  },
  {
   "cell_type": "code",
   "execution_count": 11,
   "metadata": {},
   "outputs": [
    {
     "data": {
      "text/plain": [
       "700000"
      ]
     },
     "execution_count": 11,
     "metadata": {},
     "output_type": "execute_result"
    }
   ],
   "source": [
    "len(tfidf.dfs)"
   ]
  },
  {
   "cell_type": "markdown",
   "metadata": {},
   "source": [
    "Преобразуем мешок слов в тф/идф и сохраняем"
   ]
  },
  {
   "cell_type": "code",
   "execution_count": 12,
   "metadata": {},
   "outputs": [],
   "source": [
    "corpora.MmCorpus.serialize('tfidfCorpus_700K.mm', tfidf[corpora.MmCorpus('doc2bowCorpus_700K.mm')])"
   ]
  },
  {
   "cell_type": "code",
   "execution_count": 13,
   "metadata": {},
   "outputs": [],
   "source": [
    "corpus = corpora.MmCorpus('tfidfCorpus_700K.mm')"
   ]
  },
  {
   "cell_type": "code",
   "execution_count": 14,
   "metadata": {},
   "outputs": [
    {
     "data": {
      "text/plain": [
       "7617906"
      ]
     },
     "execution_count": 14,
     "metadata": {},
     "output_type": "execute_result"
    }
   ],
   "source": [
    "corpus.num_docs"
   ]
  },
  {
   "cell_type": "code",
   "execution_count": 11,
   "metadata": {},
   "outputs": [],
   "source": [
    "# corpora.MmCorpus.serialize('tfidfCorpus.mm', corpus_tfidf)"
   ]
  }
 ],
 "metadata": {
  "kernelspec": {
   "display_name": "Python 3",
   "language": "python",
   "name": "python3"
  },
  "language_info": {
   "codemirror_mode": {
    "name": "ipython",
    "version": 3
   },
   "file_extension": ".py",
   "mimetype": "text/x-python",
   "name": "python",
   "nbconvert_exporter": "python",
   "pygments_lexer": "ipython3",
   "version": "3.6.1"
  }
 },
 "nbformat": 4,
 "nbformat_minor": 2
}
