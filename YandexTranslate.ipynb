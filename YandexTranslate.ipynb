{
 "cells": [
  {
   "cell_type": "code",
   "execution_count": 3,
   "metadata": {},
   "outputs": [],
   "source": [
    "# https://translate.yandex.ru/developers/keys\n",
    "import requests\n",
    "key = 'trnsl.1.1.20190522T115212Z.aa9261af940bacf5.629a4e6848c037fd8c6b3b413f9cf69693f1237d'\n",
    "key_2 = 'trnsl.1.1.20190522T111416Z.d6d3924e310f21d9.bb0719d23ffa7cbae9d9ba6e05dfb195013d6a19'\n",
    "path = 'https://translate.yandex.net/api/v1.5/tr.json/translate?lang={}&key={}&text={}'\n",
    "lang = 'en-ru'\n",
    "get = path.format(lang, key, 'Hello, World!')\n",
    "text = requests.get(get)"
   ]
  },
  {
   "cell_type": "code",
   "execution_count": 6,
   "metadata": {},
   "outputs": [
    {
     "data": {
      "text/plain": [
       "['Привет, Мир!']"
      ]
     },
     "execution_count": 6,
     "metadata": {},
     "output_type": "execute_result"
    }
   ],
   "source": [
    "text.json()['text']"
   ]
  }
 ],
 "metadata": {
  "kernelspec": {
   "display_name": "Python 3",
   "language": "python",
   "name": "python3"
  },
  "language_info": {
   "codemirror_mode": {
    "name": "ipython",
    "version": 3
   },
   "file_extension": ".py",
   "mimetype": "text/x-python",
   "name": "python",
   "nbconvert_exporter": "python",
   "pygments_lexer": "ipython3",
   "version": "3.6.1"
  }
 },
 "nbformat": 4,
 "nbformat_minor": 4
}
