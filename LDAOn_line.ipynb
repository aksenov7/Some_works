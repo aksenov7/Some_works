{
 "cells": [
  {
   "cell_type": "code",
   "execution_count": 1,
   "metadata": {},
   "outputs": [],
   "source": [
    "# from gensim.models.word2vec import LineSentence\n",
    "# corpus = LineSentence(\"tokens.txt/part-00000\")"
   ]
  },
  {
   "cell_type": "code",
   "execution_count": 2,
   "metadata": {},
   "outputs": [],
   "source": [
    "from gensim.corpora import Dictionary\n",
    "from gensim.models import LdaModel, TfidfModel\n",
    "from gensim import corpora\n",
    "import numpy\n",
    "\n",
    "\n",
    "LDA_model = LdaModel(corpus=corpora.MmCorpus('tfidfCorpus.mm'), \\\n",
    "                     id2word=Dictionary.load_from_text(\"de_dict_500K.dict\"),\\\n",
    "                     num_topics = 400, update_every=1, passes=1, dtype=numpy.float64)\n",
    "LDA_model.save(\"gensim_online_lda_model_de\")"
   ]
  }
 ],
 "metadata": {
  "kernelspec": {
   "display_name": "Python 3",
   "language": "python",
   "name": "python3"
  },
  "language_info": {
   "codemirror_mode": {
    "name": "ipython",
    "version": 3
   },
   "file_extension": ".py",
   "mimetype": "text/x-python",
   "name": "python",
   "nbconvert_exporter": "python",
   "pygments_lexer": "ipython3",
   "version": "3.6.1"
  }
 },
 "nbformat": 4,
 "nbformat_minor": 2
}
