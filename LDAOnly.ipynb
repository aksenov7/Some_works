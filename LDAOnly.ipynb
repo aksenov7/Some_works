{
 "cells": [
  {
   "cell_type": "markdown",
   "metadata": {},
   "source": [
    "# Учим ЛДА модель"
   ]
  },
  {
   "cell_type": "markdown",
   "metadata": {},
   "source": [
    "На мешке слов уходит в NaN между 3,3-3,4 миллиона\n",
    "Поэтому учим на тф-идф"
   ]
  },
  {
   "cell_type": "code",
   "execution_count": 1,
   "metadata": {},
   "outputs": [],
   "source": [
    "# from gensim.models.word2vec import LineSentence\n",
    "# corpus = LineSentence(\"tokens.txt/part-00000\")"
   ]
  },
  {
   "cell_type": "code",
   "execution_count": 1,
   "metadata": {},
   "outputs": [],
   "source": [
    "from gensim.corpora import Dictionary\n",
    "from gensim.models import LdaModel, TfidfModel\n",
    "from gensim import corpora\n",
    "import numpy"
   ]
  },
  {
   "cell_type": "markdown",
   "metadata": {},
   "source": [
    "Грузим заранее сериализованный корпус. Создаем и обучаем модель (не онлайн)."
   ]
  },
  {
   "cell_type": "code",
   "execution_count": 2,
   "metadata": {},
   "outputs": [
    {
     "name": "stdout",
     "output_type": "stream",
     "text": [
      "Epoch: 1 the end success\n",
      "Epoch: 2 the end success\n",
      "Epoch: 3 the end success\n",
      "Epoch: 4 the end success\n",
      "Epoch: 5 the end success\n",
      "Epoch: 6 the end success\n",
      "Epoch: 7 the end success\n",
      "Epoch: 8 the end success\n"
     ]
    }
   ],
   "source": [
    "corpus = corpora.MmCorpus('700K/tfidfCorpus_700K.mm')\n",
    "LDA_model = LdaModel(id2word=Dictionary.load_from_text(\"700K/de_dict_700K.dict\"), \\\n",
    "                     num_topics = 400, update_every=0, chunksize=10000, passes=1, dtype=numpy.float64)\n",
    "count = 0\n",
    "for i in range(8):\n",
    "    count+=1\n",
    "    LDA_model.update(corpus[i*1000000:(i+1)*1000000])\n",
    "    LDA_model.save(\"700K/gensim_lda_model_700K_400_de{0}\".format(count))\n",
    "    print(\"Epoch: {} the end success\".format(count))"
   ]
  }
 ],
 "metadata": {
  "kernelspec": {
   "display_name": "Python 3",
   "language": "python",
   "name": "python3"
  },
  "language_info": {
   "codemirror_mode": {
    "name": "ipython",
    "version": 3
   },
   "file_extension": ".py",
   "mimetype": "text/x-python",
   "name": "python",
   "nbconvert_exporter": "python",
   "pygments_lexer": "ipython3",
   "version": "3.6.1"
  }
 },
 "nbformat": 4,
 "nbformat_minor": 2
}
